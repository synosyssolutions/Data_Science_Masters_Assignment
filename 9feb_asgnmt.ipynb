{
 "cells": [
  {
   "cell_type": "code",
   "execution_count": 1,
   "id": "8567808c-010a-4a38-a6df-ec24b654f289",
   "metadata": {},
   "outputs": [
    {
     "data": {
      "text/plain": [
       "'Q1, Create a vehicle class with an init method having instance variables as name_of_vehicle, max_speed\\nand average_of_vehicle.'"
      ]
     },
     "execution_count": 1,
     "metadata": {},
     "output_type": "execute_result"
    }
   ],
   "source": [
    "'''Q1, Create a vehicle class with an init method having instance variables as name_of_vehicle, max_speed\n",
    "and average_of_vehicle.'''"
   ]
  },
  {
   "cell_type": "code",
   "execution_count": 8,
   "id": "c2e748d4-7185-47c2-986c-78c40edb0584",
   "metadata": {},
   "outputs": [],
   "source": [
    "class Vehicle:\n",
    "    \n",
    "    def __init__(self,name_of_vehicle,max_speed,average_of_vehicle):\n",
    "        self.name_of_vehicle = name_of_vehicle\n",
    "        self.max_speed = max_speed\n",
    "        self.average_of_vehicle = average_of_vehicle\n",
    "        \n",
    "        \n",
    "        "
   ]
  },
  {
   "cell_type": "code",
   "execution_count": 11,
   "id": "3b76a7a8-471b-475e-98d2-62d8134a7553",
   "metadata": {},
   "outputs": [
    {
     "data": {
      "text/plain": [
       "'Q2. Create a child class car from the vehicle class created in Que 1, which will inherit the vehicle class.\\nCreate a method named seating_capacity which takes capacity as an argument and returns the name of\\nthe vehicle and its seating capacity.'"
      ]
     },
     "execution_count": 11,
     "metadata": {},
     "output_type": "execute_result"
    }
   ],
   "source": [
    "'''Q2. Create a child class car from the vehicle class created in Que 1, which will inherit the vehicle class.\n",
    "Create a method named seating_capacity which takes capacity as an argument and returns the name of\n",
    "the vehicle and its seating capacity.'''"
   ]
  },
  {
   "cell_type": "code",
   "execution_count": 12,
   "id": "6003e7eb-13c5-4ccd-848a-5634ceafb501",
   "metadata": {},
   "outputs": [],
   "source": [
    "class Maruti(Vehicle):\n",
    "    def __init__(self,name_of_vehicle,max_speed,average_of_vehicle):\n",
    "        self.seating_capacity = 0\n",
    "        super().__init__(name_of_vehicle,max_speed,average_of_vehicle)\n",
    "        \n",
    "    def display(self,seating_capacity):\n",
    "        self.seating_capacity = seating_capacity\n",
    "        print('Seating capacity : ', self.seating_capacity,' name of vehicle : ',self.name_of_vehicle)"
   ]
  },
  {
   "cell_type": "code",
   "execution_count": 13,
   "id": "e39d11f3-9cc0-4d87-bbb3-09289da23e25",
   "metadata": {},
   "outputs": [
    {
     "name": "stdout",
     "output_type": "stream",
     "text": [
      "Seating capacity :  5  name of vehicle :  Baleno\n"
     ]
    }
   ],
   "source": [
    "m = Maruti('Baleno',200,'25kmpl')\n",
    "m.display(5)"
   ]
  },
  {
   "cell_type": "code",
   "execution_count": 14,
   "id": "762cf6eb-3a40-415c-a249-45763dfd1367",
   "metadata": {},
   "outputs": [
    {
     "data": {
      "text/plain": [
       "'Q3. What is multiple inheritance? Write a python code to demonstrate multiple inheritance.'"
      ]
     },
     "execution_count": 14,
     "metadata": {},
     "output_type": "execute_result"
    }
   ],
   "source": [
    "'''Q3. What is multiple inheritance? Write a python code to demonstrate multiple inheritance.'''"
   ]
  },
  {
   "cell_type": "code",
   "execution_count": 15,
   "id": "169cb90b-f1f8-427c-aeb4-9269deda9f2f",
   "metadata": {},
   "outputs": [
    {
     "data": {
      "text/plain": [
       "' When a child class inherits multiple base class this is called multiple inheritence'"
      ]
     },
     "execution_count": 15,
     "metadata": {},
     "output_type": "execute_result"
    }
   ],
   "source": [
    "''' When a child class inherits multiple base class this is called multiple inheritence'''"
   ]
  },
  {
   "cell_type": "code",
   "execution_count": 16,
   "id": "3fdf03b7-cce0-466d-a1ee-ae46533c4e5a",
   "metadata": {},
   "outputs": [],
   "source": [
    "# example"
   ]
  },
  {
   "cell_type": "code",
   "execution_count": 17,
   "id": "ec9fbabc-8b62-4f5a-bf62-3d48a9edbac6",
   "metadata": {},
   "outputs": [],
   "source": [
    "class A:\n",
    "     def display(self):\n",
    "            print('Class A mtd')\n",
    "        \n",
    "class B:\n",
    "    def display1(self):\n",
    "        print('Class B mtd')\n",
    "    \n",
    "class C(A,B):\n",
    "    def display2(self):\n",
    "        print('Class C mtd')"
   ]
  },
  {
   "cell_type": "code",
   "execution_count": 18,
   "id": "2a442c3e-f938-4da4-abe5-2c752ba207c9",
   "metadata": {},
   "outputs": [
    {
     "name": "stdout",
     "output_type": "stream",
     "text": [
      "Class A mtd\n"
     ]
    }
   ],
   "source": [
    "c = C()\n",
    "c.display()"
   ]
  },
  {
   "cell_type": "code",
   "execution_count": 19,
   "id": "dfb32420-cd31-41c3-9f0a-6334fcf42bde",
   "metadata": {},
   "outputs": [
    {
     "name": "stdout",
     "output_type": "stream",
     "text": [
      "Class B mtd\n"
     ]
    }
   ],
   "source": [
    "c.display1()"
   ]
  },
  {
   "cell_type": "code",
   "execution_count": 20,
   "id": "42394ec6-abd5-4349-85bb-65a52737b38b",
   "metadata": {},
   "outputs": [
    {
     "name": "stdout",
     "output_type": "stream",
     "text": [
      "Class C mtd\n"
     ]
    }
   ],
   "source": [
    "c.display2()"
   ]
  },
  {
   "cell_type": "code",
   "execution_count": 21,
   "id": "7314be97-3ef0-4657-a928-201070383568",
   "metadata": {},
   "outputs": [
    {
     "data": {
      "text/plain": [
       "'Q4. What are getter and setter in python? Create a class and create a getter and a setter method in this\\nclass.'"
      ]
     },
     "execution_count": 21,
     "metadata": {},
     "output_type": "execute_result"
    }
   ],
   "source": [
    "'''Q4. What are getter and setter in python? Create a class and create a getter and a setter method in this\n",
    "class.'''"
   ]
  },
  {
   "cell_type": "code",
   "execution_count": 22,
   "id": "5ace5efa-c11a-455e-ae5f-15bf76d978db",
   "metadata": {},
   "outputs": [
    {
     "data": {
      "text/plain": [
       "'Getter and setter method are the methods which are used to get and set the value of private variable in python which are not directly exposed to the end user or class'"
      ]
     },
     "execution_count": 22,
     "metadata": {},
     "output_type": "execute_result"
    }
   ],
   "source": [
    "'''Getter and setter method are the methods which are used to get and set the value of private variable in python which are not directly exposed to the end user or class'''"
   ]
  },
  {
   "cell_type": "code",
   "execution_count": 23,
   "id": "d04dbf34-9013-4032-96c5-59ad533463c8",
   "metadata": {},
   "outputs": [],
   "source": [
    "class Test1:\n",
    "    def __init__(self):\n",
    "        self.__a = 'a'  #this is a private varible whose value can't be accessed\n",
    "        \n",
    "    def set_value(self,a):\n",
    "        self.__a = a\n",
    "        \n",
    "    def get_value(self):\n",
    "        return self.__a\n",
    "        \n",
    "        \n",
    "        "
   ]
  },
  {
   "cell_type": "code",
   "execution_count": 24,
   "id": "42fbbeba-bd28-4efe-a275-2602470628ae",
   "metadata": {},
   "outputs": [],
   "source": [
    "t = Test1()"
   ]
  },
  {
   "cell_type": "code",
   "execution_count": 25,
   "id": "439e946a-7bb5-4fdc-8be0-d6a1c88b431c",
   "metadata": {},
   "outputs": [
    {
     "data": {
      "text/plain": [
       "'a'"
      ]
     },
     "execution_count": 25,
     "metadata": {},
     "output_type": "execute_result"
    }
   ],
   "source": [
    "t.get_value()"
   ]
  },
  {
   "cell_type": "code",
   "execution_count": 26,
   "id": "f30db8fd-a5d5-4fe5-97c5-3c1cb2c9b393",
   "metadata": {},
   "outputs": [],
   "source": [
    "t.set_value('b')"
   ]
  },
  {
   "cell_type": "code",
   "execution_count": 27,
   "id": "de546ee2-8b1f-4562-8347-78473098a727",
   "metadata": {},
   "outputs": [
    {
     "data": {
      "text/plain": [
       "'b'"
      ]
     },
     "execution_count": 27,
     "metadata": {},
     "output_type": "execute_result"
    }
   ],
   "source": [
    "t.get_value()"
   ]
  },
  {
   "cell_type": "code",
   "execution_count": 28,
   "id": "5ccfe24c-49da-4600-b2b9-3567c4ed75e4",
   "metadata": {},
   "outputs": [
    {
     "data": {
      "text/plain": [
       "'Q5.What is method overriding in python? Write a python code to demonstrate method overriding.'"
      ]
     },
     "execution_count": 28,
     "metadata": {},
     "output_type": "execute_result"
    }
   ],
   "source": [
    "'''Q5.What is method overriding in python? Write a python code to demonstrate method overriding.'''"
   ]
  },
  {
   "cell_type": "code",
   "execution_count": 29,
   "id": "60d033a3-579e-490c-a2a7-a1a24956793e",
   "metadata": {},
   "outputs": [
    {
     "data": {
      "text/plain": [
       "'method overriding is basically reimplementing base class mtd into child class'"
      ]
     },
     "execution_count": 29,
     "metadata": {},
     "output_type": "execute_result"
    }
   ],
   "source": [
    "'''method overriding is basically reimplementing base class mtd into child class'''"
   ]
  },
  {
   "cell_type": "code",
   "execution_count": 36,
   "id": "c84d22e3-4803-43bc-8bcc-8e70ddda49a3",
   "metadata": {},
   "outputs": [],
   "source": [
    "class Parent:\n",
    "    def display(self):\n",
    "        print('parent class mtd')\n",
    "        \n",
    "class Child(Parent):\n",
    "    def display(self):\n",
    "        #super().display()\n",
    "        print('child class mtd')"
   ]
  },
  {
   "cell_type": "code",
   "execution_count": 37,
   "id": "2d1dada4-9f47-4f81-9f5b-7ace4b51d487",
   "metadata": {},
   "outputs": [],
   "source": [
    "c = Child()"
   ]
  },
  {
   "cell_type": "code",
   "execution_count": 38,
   "id": "c2803878-5a3a-4ea0-9736-ada3a7c102d6",
   "metadata": {},
   "outputs": [
    {
     "name": "stdout",
     "output_type": "stream",
     "text": [
      "child class mtd\n"
     ]
    }
   ],
   "source": [
    "c.display()"
   ]
  },
  {
   "cell_type": "code",
   "execution_count": null,
   "id": "c9de01ef-20a4-49b4-af0b-417e7f760c5c",
   "metadata": {},
   "outputs": [],
   "source": []
  }
 ],
 "metadata": {
  "kernelspec": {
   "display_name": "Python 3 (ipykernel)",
   "language": "python",
   "name": "python3"
  },
  "language_info": {
   "codemirror_mode": {
    "name": "ipython",
    "version": 3
   },
   "file_extension": ".py",
   "mimetype": "text/x-python",
   "name": "python",
   "nbconvert_exporter": "python",
   "pygments_lexer": "ipython3",
   "version": "3.10.8"
  }
 },
 "nbformat": 4,
 "nbformat_minor": 5
}
