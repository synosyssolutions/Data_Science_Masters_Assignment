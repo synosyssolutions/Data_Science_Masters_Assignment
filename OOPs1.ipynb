{
 "cells": [
  {
   "cell_type": "code",
   "execution_count": 1,
   "id": "471162e4-4b9c-43d9-8edf-7057c0c28ac3",
   "metadata": {},
   "outputs": [],
   "source": [
    "#Q1. Explain Class and Object with respect to Object-Oriented Programming. Give a suitable example."
   ]
  },
  {
   "cell_type": "code",
   "execution_count": 3,
   "id": "95337f81-ab51-4049-8471-3f2330c3f765",
   "metadata": {},
   "outputs": [
    {
     "data": {
      "text/plain": [
       "'The class can be defined as a collection of objects. It is a logical entity that has some specific attributes and methods. For example: if you have an employee class, then it should contain an attribute and method, i.e. an email id, name, age, salary, etc.\\n\\nThe object is an entity that has state and behavior. It may be any real-world object like the mouse, keyboard, chair, table, pen, etc.'"
      ]
     },
     "execution_count": 3,
     "metadata": {},
     "output_type": "execute_result"
    }
   ],
   "source": [
    "'''The class can be defined as a collection of objects. It is a logical entity that has some specific attributes and methods. For example: if you have an employee class, then it should contain an attribute and method, i.e. an email id, name, age, salary, etc.\n",
    "\n",
    "The object is an entity that has state and behavior. It may be any real-world object like the mouse, keyboard, chair, table, pen, etc.'''"
   ]
  },
  {
   "cell_type": "code",
   "execution_count": 5,
   "id": "a501559f-0dbc-4922-9024-1c70b8b35c7f",
   "metadata": {},
   "outputs": [
    {
     "name": "stdout",
     "output_type": "stream",
     "text": [
      "Toyota 2016\n"
     ]
    }
   ],
   "source": [
    "class car:  # class\n",
    "    def __init__(self,modelname, year):  \n",
    "        self.modelname = modelname  \n",
    "        self.year = year  \n",
    "    def display(self):  \n",
    "        print(self.modelname,self.year)  \n",
    "  \n",
    "c1 = car(\"Toyota\", 2016)  #object\n",
    "c1.display()  "
   ]
  },
  {
   "cell_type": "code",
   "execution_count": 6,
   "id": "66ea6d9b-2779-439e-ad16-791b6f862439",
   "metadata": {},
   "outputs": [],
   "source": [
    "# Q2. Name the four pillars of OOPs."
   ]
  },
  {
   "cell_type": "code",
   "execution_count": 7,
   "id": "5f485111-b6f5-4923-a15d-a048c3b484ea",
   "metadata": {},
   "outputs": [
    {
     "data": {
      "text/plain": [
       "'\\n1.Polymorphism\\n2.Inheritance\\n3.Encapsulation\\n4.Data Abstraction\\n'"
      ]
     },
     "execution_count": 7,
     "metadata": {},
     "output_type": "execute_result"
    }
   ],
   "source": [
    "'''\n",
    "1.Polymorphism\n",
    "2.Inheritance\n",
    "3.Encapsulation\n",
    "4.Data Abstraction\n",
    "'''"
   ]
  },
  {
   "cell_type": "code",
   "execution_count": 8,
   "id": "04cd6d5c-f429-45e5-bac6-dbfc2c994bed",
   "metadata": {},
   "outputs": [],
   "source": [
    "# Q3. Explain why the __init__() function is used. Give a suitable example."
   ]
  },
  {
   "cell_type": "code",
   "execution_count": 9,
   "id": "e475ab6b-97ae-4b90-9119-89de060d1c72",
   "metadata": {},
   "outputs": [
    {
     "name": "stdout",
     "output_type": "stream",
     "text": [
      "Toyota 2016\n"
     ]
    }
   ],
   "source": [
    "'''__init__() is used as constructor and is used to initialize instance variable'''\n",
    "\n",
    "class car:  # class\n",
    "    def __init__(self,modelname, year):  \n",
    "        # initializing instance variable\n",
    "        self.modelname = modelname  \n",
    "        self.year = year  \n",
    "    def display(self):  \n",
    "        print(self.modelname,self.year)  \n",
    "  \n",
    "c1 = car(\"Toyota\", 2016)  #object\n",
    "c1.display()  "
   ]
  },
  {
   "cell_type": "code",
   "execution_count": 10,
   "id": "168bb4ee-4a10-46f2-8fc1-72df8629189b",
   "metadata": {},
   "outputs": [],
   "source": [
    "# Q4. Why self is used in OOPs?"
   ]
  },
  {
   "cell_type": "code",
   "execution_count": 11,
   "id": "d4ebc581-8772-4d93-b156-4fffa5aefb99",
   "metadata": {},
   "outputs": [
    {
     "data": {
      "text/plain": [
       "'self represents the instance of the class. By using the “self”  we can access the attributes and methods of the class in python. It binds the attributes with the given arguments.'"
      ]
     },
     "execution_count": 11,
     "metadata": {},
     "output_type": "execute_result"
    }
   ],
   "source": [
    "'''self represents the instance of the class. By using the “self”  we can access the attributes and methods of the class in python. It binds the attributes with the given arguments.'''"
   ]
  },
  {
   "cell_type": "code",
   "execution_count": 12,
   "id": "c2f6b1b5-41e5-4534-b29b-26b149d348dc",
   "metadata": {},
   "outputs": [],
   "source": [
    "# Q5. What is inheritance? Give an example for each type of inheritance."
   ]
  },
  {
   "cell_type": "code",
   "execution_count": 13,
   "id": "18c1f9d0-07c8-41e2-98c1-8d42c8c9cef2",
   "metadata": {},
   "outputs": [
    {
     "data": {
      "text/plain": [
       "'Inheritance is an important aspect of the object-oriented paradigm. Inheritance provides code reusability to the program because we can use an existing class to create a new class instead of creating it from scratch.'"
      ]
     },
     "execution_count": 13,
     "metadata": {},
     "output_type": "execute_result"
    }
   ],
   "source": [
    "'''Inheritance is an important aspect of the object-oriented paradigm. Inheritance provides code reusability to the program because we can use an existing class to create a new class instead of creating it from scratch.'''"
   ]
  },
  {
   "cell_type": "code",
   "execution_count": 14,
   "id": "3d7bf0be-e675-4717-bc92-0fc629242926",
   "metadata": {},
   "outputs": [
    {
     "name": "stdout",
     "output_type": "stream",
     "text": [
      "dog barking\n",
      "Animal Speaking\n"
     ]
    }
   ],
   "source": [
    "class Animal:  \n",
    "    def speak(self):  \n",
    "        print(\"Animal Speaking\")  \n",
    "#child class Dog inherits the base class Animal  \n",
    "class Dog(Animal):  \n",
    "    def bark(self):  \n",
    "        print(\"dog barking\")  \n",
    "d = Dog()  \n",
    "d.bark()  \n",
    "d.speak()  "
   ]
  },
  {
   "cell_type": "code",
   "execution_count": null,
   "id": "bd81427d-28e5-4f26-9fb8-9e63d7802627",
   "metadata": {},
   "outputs": [],
   "source": []
  }
 ],
 "metadata": {
  "kernelspec": {
   "display_name": "Python 3 (ipykernel)",
   "language": "python",
   "name": "python3"
  },
  "language_info": {
   "codemirror_mode": {
    "name": "ipython",
    "version": 3
   },
   "file_extension": ".py",
   "mimetype": "text/x-python",
   "name": "python",
   "nbconvert_exporter": "python",
   "pygments_lexer": "ipython3",
   "version": "3.10.8"
  }
 },
 "nbformat": 4,
 "nbformat_minor": 5
}
