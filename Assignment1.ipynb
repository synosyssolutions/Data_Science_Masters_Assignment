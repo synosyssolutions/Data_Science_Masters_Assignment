{
 "cells": [
  {
   "cell_type": "code",
   "execution_count": 1,
   "id": "33fef350-f4ef-427a-b726-7e6b2f000766",
   "metadata": {},
   "outputs": [],
   "source": [
    "# 1.Explain with an example each when to use a for loop and a while loop."
   ]
  },
  {
   "cell_type": "code",
   "execution_count": 5,
   "id": "6755943b-9289-4798-8f36-46d5d4afbeb3",
   "metadata": {},
   "outputs": [
    {
     "name": "stdout",
     "output_type": "stream",
     "text": [
      "0\n",
      "1\n",
      "2\n",
      "3\n",
      "4\n",
      "5\n",
      "6\n",
      "7\n",
      "8\n",
      "9\n",
      "10\n",
      "\n",
      "using while loop\n",
      "101\n",
      "102\n",
      "103\n",
      "104\n",
      "105\n",
      "106\n",
      "107\n",
      "108\n",
      "109\n",
      "110\n",
      "111\n",
      "112\n",
      "113\n",
      "114\n",
      "115\n",
      "116\n",
      "117\n",
      "118\n",
      "119\n",
      "120\n",
      "121\n",
      "122\n",
      "123\n",
      "124\n",
      "125\n",
      "126\n",
      "127\n",
      "128\n",
      "129\n",
      "130\n",
      "131\n",
      "132\n",
      "133\n",
      "134\n",
      "135\n",
      "136\n",
      "137\n",
      "138\n",
      "139\n",
      "140\n",
      "141\n",
      "142\n",
      "143\n",
      "144\n",
      "145\n",
      "146\n",
      "147\n",
      "148\n",
      "149\n"
     ]
    }
   ],
   "source": [
    "# FOR LOOP IS USED WHEN THE NUMBER OF ITERATIONS ARE CLEARLY KNOWN WHERE AS WE USE WHILE WHEN WE WANT TO EXECUTE THE LOOP UNTIL THE CONDITION IS TRUE\n",
    "\n",
    "for i in range(0,11): # we know here that loop will execute 11 times\n",
    "    print(i)\n",
    "\n",
    "print('')\n",
    "print('using while loop') # it will execute until the condition is false\n",
    "i = 101    \n",
    "while i < 150:\n",
    "    print(i)\n",
    "    i += 1"
   ]
  },
  {
   "cell_type": "code",
   "execution_count": 6,
   "id": "05905067-c1b6-4ee4-b9b1-2aa5318fc5e3",
   "metadata": {},
   "outputs": [],
   "source": [
    "#Q2. Write a python program to print the sum and product of the first 10 natural numbers using for and while loop."
   ]
  },
  {
   "cell_type": "code",
   "execution_count": 8,
   "id": "9af53ef0-cfc3-4ad0-8bba-21675ae76994",
   "metadata": {},
   "outputs": [
    {
     "name": "stdout",
     "output_type": "stream",
     "text": [
      "using for loop, sum =  55\n",
      "using for loop, product =  3628800\n",
      "using while loop, sum =  55\n",
      "using while loop, product =  3628800\n"
     ]
    }
   ],
   "source": [
    "'''using for loop'''\n",
    "sum = 0\n",
    "prod = 1\n",
    "for i in range(1,11):\n",
    "    sum += i\n",
    "    prod *= i \n",
    "    \n",
    "print('using for loop, sum = ',str(sum))\n",
    "print('using for loop, product = ',str(prod))\n",
    "\n",
    "\n",
    "'''using while loop'''\n",
    "sum1 = 0\n",
    "prod1 = 1\n",
    "i = 1\n",
    "while i < 11:\n",
    "    sum1 += i\n",
    "    prod1 *= i\n",
    "    i += 1\n",
    "print('using while loop, sum = ',str(sum))\n",
    "print('using while loop, product = ',str(prod))    "
   ]
  },
  {
   "cell_type": "code",
   "execution_count": 9,
   "id": "8fad9391-d6db-4971-959c-606663d84f30",
   "metadata": {},
   "outputs": [],
   "source": [
    "# Q3. Create a python program to compute the electricity bill for a household.\n",
    "# The per-unit charges in rupees are as follows: For the first 100 units, the user will be charged Rs. 4.5 per\n",
    "# unit, for the next 100 units, the user will be charged Rs. 6 per unit, and for the next 100 units, the user will\n",
    "# be charged Rs. 10 per unit, After 300 units and above the user will be charged Rs. 20 per unit."
   ]
  },
  {
   "cell_type": "code",
   "execution_count": 25,
   "id": "dc9c7e7f-0d2f-4789-9ff5-ce4e0217b874",
   "metadata": {},
   "outputs": [
    {
     "name": "stdin",
     "output_type": "stream",
     "text": [
      "enter the units consumed 351\n"
     ]
    },
    {
     "name": "stdout",
     "output_type": "stream",
     "text": [
      "3070.0\n"
     ]
    }
   ],
   "source": [
    "units = int(input('enter the units consumed'))\n",
    "charges = 0.0\n",
    "if units <= 100:\n",
    "    charges =  4.5 * units\n",
    "elif units <= 200:\n",
    "    charges =  (4.5 * 100) + (6 * (units - 100))\n",
    "elif units <= 300:\n",
    "    charges =  (4.5 * 100) + (6 * 100) + (10 * (units - 200))\n",
    "elif units > 300:\n",
    "    charges =  (4.5 * 100) + (6 * 100) + (10 * 100) + (20 * (units - 300))\n",
    "\n",
    "print(charges)     \n",
    "        "
   ]
  },
  {
   "cell_type": "code",
   "execution_count": 26,
   "id": "4b333fe5-bcfc-4869-bcc2-fbc341945942",
   "metadata": {},
   "outputs": [],
   "source": [
    "# Q4. Create a list of numbers from 1 to 100. Use for loop and while loop to calculate the cube of each number and if the cube of that number is divisible by 4 or 5 then append that number in a list and print that list."
   ]
  },
  {
   "cell_type": "code",
   "execution_count": 1,
   "id": "61280dec-f891-416d-a94b-5119d62a1626",
   "metadata": {},
   "outputs": [
    {
     "name": "stdout",
     "output_type": "stream",
     "text": [
      "[10, 20, 30, 40, 50, 60, 70, 80, 90, 100]\n",
      "[10, 20, 30, 40, 50, 60, 70, 80, 90, 100]\n"
     ]
    }
   ],
   "source": [
    "'''Using For Loop'''\n",
    "l = []\n",
    "for i in range(1,101):\n",
    "    num = i ** 3\n",
    "    if(num % 4 == 0 | num % 5 == 0):\n",
    "        l.append(i)\n",
    "        \n",
    "'''Using while Loop'''\n",
    "\n",
    "l1= []\n",
    "i = 1\n",
    "while i <= 100:\n",
    "    num = i ** 3\n",
    "    if(num % 4 == 0 | num % 5 == 0):\n",
    "        l1.append(i)\n",
    "    i += 1\n",
    "\n",
    "print(l)\n",
    "print(l1)"
   ]
  },
  {
   "cell_type": "code",
   "execution_count": 2,
   "id": "9f8cd0a1-e83f-42dd-90f8-0d67080613c1",
   "metadata": {},
   "outputs": [],
   "source": [
    "# Q5. Write a program to filter count vowels in the below-given string."
   ]
  },
  {
   "cell_type": "code",
   "execution_count": 3,
   "id": "37a89d1f-c2d0-4b48-8e31-ea3f20a4fb54",
   "metadata": {},
   "outputs": [],
   "source": [
    "s = 'I want to become a data scientist'"
   ]
  },
  {
   "cell_type": "code",
   "execution_count": 4,
   "id": "f98352f2-1307-4042-b7d5-ddd3465bc654",
   "metadata": {},
   "outputs": [
    {
     "data": {
      "text/plain": [
       "'I want to become a data scientist'"
      ]
     },
     "execution_count": 4,
     "metadata": {},
     "output_type": "execute_result"
    }
   ],
   "source": [
    "s"
   ]
  },
  {
   "cell_type": "code",
   "execution_count": 5,
   "id": "4c3b2763-f0e2-4c6e-8be9-0972f77802ec",
   "metadata": {},
   "outputs": [],
   "source": [
    "vowel = ['a','e','i','o','u']"
   ]
  },
  {
   "cell_type": "code",
   "execution_count": 9,
   "id": "8801b496-7acd-4fca-a538-49918a3eb90e",
   "metadata": {},
   "outputs": [
    {
     "data": {
      "text/plain": [
       "12"
      ]
     },
     "execution_count": 9,
     "metadata": {},
     "output_type": "execute_result"
    }
   ],
   "source": [
    "len([i for i in s if i.lower() in vowel])"
   ]
  },
  {
   "cell_type": "code",
   "execution_count": null,
   "id": "2c947e31-4a22-4a58-a068-41e9b486414a",
   "metadata": {},
   "outputs": [],
   "source": []
  }
 ],
 "metadata": {
  "kernelspec": {
   "display_name": "Python 3 (ipykernel)",
   "language": "python",
   "name": "python3"
  },
  "language_info": {
   "codemirror_mode": {
    "name": "ipython",
    "version": 3
   },
   "file_extension": ".py",
   "mimetype": "text/x-python",
   "name": "python",
   "nbconvert_exporter": "python",
   "pygments_lexer": "ipython3",
   "version": "3.10.8"
  }
 },
 "nbformat": 4,
 "nbformat_minor": 5
}
