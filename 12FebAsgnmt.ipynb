{
 "cells": [
  {
   "cell_type": "code",
   "execution_count": 1,
   "id": "a2c61ef0-a6ce-4d15-8d3c-390955cd58d9",
   "metadata": {},
   "outputs": [
    {
     "data": {
      "text/plain": [
       "'Q1. What is an Exception in python? Write the difference between Exceptions and Syntax errors.  \\n'"
      ]
     },
     "execution_count": 1,
     "metadata": {},
     "output_type": "execute_result"
    }
   ],
   "source": [
    "'''Q1. What is an Exception in python? Write the difference between Exceptions and Syntax errors.  \n",
    "'''"
   ]
  },
  {
   "cell_type": "code",
   "execution_count": 2,
   "id": "5533816a-ec65-4da0-84e0-0338b40a725f",
   "metadata": {},
   "outputs": [
    {
     "data": {
      "text/plain": [
       "'The error which can be handled by programmer are called exception, it occures at runtime and terminates the normal execution flow of program'"
      ]
     },
     "execution_count": 2,
     "metadata": {},
     "output_type": "execute_result"
    }
   ],
   "source": [
    "'''The error which can be handled by programmer are called exception, it occures at runtime and terminates the normal execution flow of program'''"
   ]
  },
  {
   "cell_type": "code",
   "execution_count": 3,
   "id": "8b8c574c-0da3-408d-a811-db2a2b247af9",
   "metadata": {},
   "outputs": [
    {
     "data": {
      "text/plain": [
       "'Syntax error : This exception is raised when the interpreter encounters a syntax error in the code, such as a misspelled keyword, a missing colon, or an unbalanced parenthesis.\\nException: exceptions are raised when some internal events occur which change the normal flow of the program. '"
      ]
     },
     "execution_count": 3,
     "metadata": {},
     "output_type": "execute_result"
    }
   ],
   "source": [
    "'''Syntax error : This exception is raised when the interpreter encounters a syntax error in the code, such as a misspelled keyword, a missing colon, or an unbalanced parenthesis.\n",
    "Exception: exceptions are raised when some internal events occur which change the normal flow of the program. '''   "
   ]
  },
  {
   "cell_type": "code",
   "execution_count": 4,
   "id": "d952225d-8dea-4d50-ab55-b025e83e8c91",
   "metadata": {},
   "outputs": [
    {
     "data": {
      "text/plain": [
       "'Q2. What happens when an exception is not handled? Explain with an example.'"
      ]
     },
     "execution_count": 4,
     "metadata": {},
     "output_type": "execute_result"
    }
   ],
   "source": [
    "'''Q2. What happens when an exception is not handled? Explain with an example.'''"
   ]
  },
  {
   "cell_type": "code",
   "execution_count": 5,
   "id": "cfb4a021-1d10-4848-8368-cccef5c4c10e",
   "metadata": {},
   "outputs": [
    {
     "data": {
      "text/plain": [
       "'If exception is not handled it breaks the flow of execution of program, program execution stops at the line where exception has occured if it is not handled properly'"
      ]
     },
     "execution_count": 5,
     "metadata": {},
     "output_type": "execute_result"
    }
   ],
   "source": [
    "'''If exception is not handled it breaks the flow of execution of program, program execution stops at the line where exception has occured if it is not handled properly'''"
   ]
  },
  {
   "cell_type": "code",
   "execution_count": 7,
   "id": "91e2f3ca-5638-4499-90b6-83093ff9ea4d",
   "metadata": {},
   "outputs": [
    {
     "ename": "FileNotFoundError",
     "evalue": "[Errno 2] No such file or directory: 'test123.txt'",
     "output_type": "error",
     "traceback": [
      "\u001b[0;31m---------------------------------------------------------------------------\u001b[0m",
      "\u001b[0;31mFileNotFoundError\u001b[0m                         Traceback (most recent call last)",
      "Cell \u001b[0;32mIn[7], line 3\u001b[0m\n\u001b[1;32m      1\u001b[0m \u001b[38;5;66;03m# Example\u001b[39;00m\n\u001b[0;32m----> 3\u001b[0m f \u001b[38;5;241m=\u001b[39m \u001b[38;5;28;43mopen\u001b[39;49m\u001b[43m(\u001b[49m\u001b[38;5;124;43m'\u001b[39;49m\u001b[38;5;124;43mtest123.txt\u001b[39;49m\u001b[38;5;124;43m'\u001b[39;49m\u001b[43m,\u001b[49m\u001b[38;5;124;43m'\u001b[39;49m\u001b[38;5;124;43mr\u001b[39;49m\u001b[38;5;124;43m'\u001b[39;49m\u001b[43m)\u001b[49m\n\u001b[1;32m      4\u001b[0m \u001b[38;5;28mprint\u001b[39m(\u001b[38;5;124m'\u001b[39m\u001b[38;5;124mfile has been opened in read mode\u001b[39m\u001b[38;5;124m'\u001b[39m)\n\u001b[1;32m      5\u001b[0m f\u001b[38;5;241m.\u001b[39mclose()\n",
      "File \u001b[0;32m/opt/conda/lib/python3.10/site-packages/IPython/core/interactiveshell.py:282\u001b[0m, in \u001b[0;36m_modified_open\u001b[0;34m(file, *args, **kwargs)\u001b[0m\n\u001b[1;32m    275\u001b[0m \u001b[38;5;28;01mif\u001b[39;00m file \u001b[38;5;129;01min\u001b[39;00m {\u001b[38;5;241m0\u001b[39m, \u001b[38;5;241m1\u001b[39m, \u001b[38;5;241m2\u001b[39m}:\n\u001b[1;32m    276\u001b[0m     \u001b[38;5;28;01mraise\u001b[39;00m \u001b[38;5;167;01mValueError\u001b[39;00m(\n\u001b[1;32m    277\u001b[0m         \u001b[38;5;124mf\u001b[39m\u001b[38;5;124m\"\u001b[39m\u001b[38;5;124mIPython won\u001b[39m\u001b[38;5;124m'\u001b[39m\u001b[38;5;124mt let you open fd=\u001b[39m\u001b[38;5;132;01m{\u001b[39;00mfile\u001b[38;5;132;01m}\u001b[39;00m\u001b[38;5;124m by default \u001b[39m\u001b[38;5;124m\"\u001b[39m\n\u001b[1;32m    278\u001b[0m         \u001b[38;5;124m\"\u001b[39m\u001b[38;5;124mas it is likely to crash IPython. If you know what you are doing, \u001b[39m\u001b[38;5;124m\"\u001b[39m\n\u001b[1;32m    279\u001b[0m         \u001b[38;5;124m\"\u001b[39m\u001b[38;5;124myou can use builtins\u001b[39m\u001b[38;5;124m'\u001b[39m\u001b[38;5;124m open.\u001b[39m\u001b[38;5;124m\"\u001b[39m\n\u001b[1;32m    280\u001b[0m     )\n\u001b[0;32m--> 282\u001b[0m \u001b[38;5;28;01mreturn\u001b[39;00m \u001b[43mio_open\u001b[49m\u001b[43m(\u001b[49m\u001b[43mfile\u001b[49m\u001b[43m,\u001b[49m\u001b[43m \u001b[49m\u001b[38;5;241;43m*\u001b[39;49m\u001b[43margs\u001b[49m\u001b[43m,\u001b[49m\u001b[43m \u001b[49m\u001b[38;5;241;43m*\u001b[39;49m\u001b[38;5;241;43m*\u001b[39;49m\u001b[43mkwargs\u001b[49m\u001b[43m)\u001b[49m\n",
      "\u001b[0;31mFileNotFoundError\u001b[0m: [Errno 2] No such file or directory: 'test123.txt'"
     ]
    }
   ],
   "source": [
    "# Example\n",
    "\n",
    "f = open('test123.txt','r')\n",
    "print('file has been opened in read mode')\n",
    "f.close()"
   ]
  },
  {
   "cell_type": "code",
   "execution_count": 8,
   "id": "bab899c4-0319-450f-899d-725cec64e370",
   "metadata": {},
   "outputs": [
    {
     "name": "stdout",
     "output_type": "stream",
     "text": [
      "[Errno 2] No such file or directory: 'test123.txt'\n"
     ]
    }
   ],
   "source": [
    "# Example of handling this error\n",
    "\n",
    "try:\n",
    "    f = open('test123.txt','r')\n",
    "    print('file has been opened in read mode')\n",
    "except Exception as e:\n",
    "    print(e)\n",
    "finally:\n",
    "    f.close()\n"
   ]
  },
  {
   "cell_type": "code",
   "execution_count": 9,
   "id": "6db017e8-25a8-4c0e-8f76-02cee8895ffb",
   "metadata": {},
   "outputs": [
    {
     "data": {
      "text/plain": [
       "'Q3. Which Python statements are used to catch and handle exceptions? Explain with an example.  '"
      ]
     },
     "execution_count": 9,
     "metadata": {},
     "output_type": "execute_result"
    }
   ],
   "source": [
    "'''Q3. Which Python statements are used to catch and handle exceptions? Explain with an example.  '''"
   ]
  },
  {
   "cell_type": "code",
   "execution_count": 10,
   "id": "9747a22f-27c9-4169-9b4f-0fc20a1f1ace",
   "metadata": {},
   "outputs": [
    {
     "data": {
      "text/plain": [
       "'try and except'"
      ]
     },
     "execution_count": 10,
     "metadata": {},
     "output_type": "execute_result"
    }
   ],
   "source": [
    "'''try and except'''"
   ]
  },
  {
   "cell_type": "code",
   "execution_count": 11,
   "id": "a8e5aa29-4e7a-4a43-9a55-3dfac05a2208",
   "metadata": {},
   "outputs": [
    {
     "name": "stdout",
     "output_type": "stream",
     "text": [
      "[Errno 2] No such file or directory: 'test123.txt'\n"
     ]
    }
   ],
   "source": [
    "# Example\n",
    "\n",
    "try:\n",
    "    f = open('test123.txt','r')\n",
    "    print('file has been opened in read mode')\n",
    "except Exception as e:\n",
    "    print(e)\n",
    "finally:\n",
    "    f.close()\n"
   ]
  },
  {
   "cell_type": "code",
   "execution_count": 12,
   "id": "99c0a932-e2ba-40e7-97cb-d05a45fa69ba",
   "metadata": {},
   "outputs": [
    {
     "data": {
      "text/plain": [
       "'Q4. Explain with an example: '"
      ]
     },
     "execution_count": 12,
     "metadata": {},
     "output_type": "execute_result"
    }
   ],
   "source": [
    "'''Q4. Explain with an example: '''"
   ]
  },
  {
   "cell_type": "code",
   "execution_count": 13,
   "id": "a88500a4-6836-429d-a0ed-1628197bf8a2",
   "metadata": {},
   "outputs": [
    {
     "data": {
      "text/plain": [
       "'a. try and else'"
      ]
     },
     "execution_count": 13,
     "metadata": {},
     "output_type": "execute_result"
    }
   ],
   "source": [
    "'''a. try and else'''"
   ]
  },
  {
   "cell_type": "code",
   "execution_count": 14,
   "id": "4eb75edc-de76-4162-a351-98cd509ac628",
   "metadata": {},
   "outputs": [
    {
     "name": "stdout",
     "output_type": "stream",
     "text": [
      "Please don't divide any non-zero number with zero\n"
     ]
    }
   ],
   "source": [
    "# try block contains code where exception can arise\n",
    "# else block is executed when there is no exception raised or try block is completely executed\n",
    "# Example 1\n",
    "try:\n",
    "    10/0\n",
    "except ZeroDivisionError:\n",
    "    print('Please don\\'t divide any non-zero number with zero')\n",
    "else:\n",
    "    print('this is else block')"
   ]
  },
  {
   "cell_type": "code",
   "execution_count": 15,
   "id": "42de7f9d-67fd-463f-b470-48fff0cb2826",
   "metadata": {},
   "outputs": [
    {
     "name": "stdout",
     "output_type": "stream",
     "text": [
      "this is else block\n"
     ]
    }
   ],
   "source": [
    "# Example 2\n",
    "try:\n",
    "    10/2\n",
    "except ZeroDivisionError:\n",
    "    print('Please don\\'t divide any non-zero number with zero')\n",
    "else:\n",
    "    print('this is else block')"
   ]
  },
  {
   "cell_type": "code",
   "execution_count": 16,
   "id": "3dbddeff-d5aa-4ecb-b7bc-254b8531bf34",
   "metadata": {},
   "outputs": [
    {
     "data": {
      "text/plain": [
       "'b. finally'"
      ]
     },
     "execution_count": 16,
     "metadata": {},
     "output_type": "execute_result"
    }
   ],
   "source": [
    "'''b. finally'''"
   ]
  },
  {
   "cell_type": "code",
   "execution_count": 17,
   "id": "6ed403fc-96f7-42b0-b5d4-78ad56c7fa77",
   "metadata": {},
   "outputs": [
    {
     "name": "stdout",
     "output_type": "stream",
     "text": [
      "this is else block\n",
      "finally block\n"
     ]
    }
   ],
   "source": [
    "# finally block is executed in all the scenarios whether any exception occures or not and also irrespective of whether the raised exception is being handled or not\n",
    "# Example 1\n",
    "try:\n",
    "    10/2\n",
    "except ZeroDivisionError:\n",
    "    print('Please don\\'t divide any non-zero number with zero')\n",
    "else:\n",
    "    print('this is else block')\n",
    "finally:\n",
    "    print('finally block')"
   ]
  },
  {
   "cell_type": "code",
   "execution_count": 21,
   "id": "4f6335ef-6f2c-453b-973f-a77a1156d2a9",
   "metadata": {},
   "outputs": [
    {
     "name": "stdout",
     "output_type": "stream",
     "text": [
      "finally block\n"
     ]
    },
    {
     "ename": "ZeroDivisionError",
     "evalue": "division by zero",
     "output_type": "error",
     "traceback": [
      "\u001b[0;31m---------------------------------------------------------------------------\u001b[0m",
      "\u001b[0;31mZeroDivisionError\u001b[0m                         Traceback (most recent call last)",
      "Cell \u001b[0;32mIn[21], line 3\u001b[0m\n\u001b[1;32m      1\u001b[0m \u001b[38;5;66;03m#Example 2\u001b[39;00m\n\u001b[1;32m      2\u001b[0m \u001b[38;5;28;01mtry\u001b[39;00m:\n\u001b[0;32m----> 3\u001b[0m     \u001b[38;5;241;43m10\u001b[39;49m\u001b[38;5;241;43m/\u001b[39;49m\u001b[38;5;241;43m0\u001b[39;49m\n\u001b[1;32m      4\u001b[0m \u001b[38;5;28;01mfinally\u001b[39;00m:\n\u001b[1;32m      5\u001b[0m     \u001b[38;5;28mprint\u001b[39m(\u001b[38;5;124m'\u001b[39m\u001b[38;5;124mfinally block\u001b[39m\u001b[38;5;124m'\u001b[39m)   \n",
      "\u001b[0;31mZeroDivisionError\u001b[0m: division by zero"
     ]
    }
   ],
   "source": [
    "#Example 2\n",
    "try:\n",
    "    10/0\n",
    "finally:\n",
    "    print('finally block')   \n"
   ]
  },
  {
   "cell_type": "code",
   "execution_count": 22,
   "id": "621ae712-47fc-471a-bbff-a64e97b5fa31",
   "metadata": {},
   "outputs": [
    {
     "data": {
      "text/plain": [
       "'c. raise'"
      ]
     },
     "execution_count": 22,
     "metadata": {},
     "output_type": "execute_result"
    }
   ],
   "source": [
    "'''c. raise'''"
   ]
  },
  {
   "cell_type": "code",
   "execution_count": 25,
   "id": "3dfc4f1e-1145-424d-a793-ffc047ce48f6",
   "metadata": {},
   "outputs": [
    {
     "name": "stdin",
     "output_type": "stream",
     "text": [
      "enter your age :  16\n"
     ]
    },
    {
     "name": "stdout",
     "output_type": "stream",
     "text": [
      "you are not allowed\n"
     ]
    }
   ],
   "source": [
    "# raise is used in case of raising custom exception\n",
    "\n",
    "class myException(Exception):\n",
    "    def __init__(self,msg):\n",
    "        self.msg = msg\n",
    "\n",
    "age = int(input('enter your age : '))\n",
    "def validate(age):\n",
    "    if(age < 18):\n",
    "        raise myException('you are not allowed')\n",
    "try:\n",
    "    validate(age)\n",
    "except myException as e:\n",
    "    print(e)"
   ]
  },
  {
   "cell_type": "code",
   "execution_count": 26,
   "id": "9ec4e3e6-5bb5-4a93-8d9b-14a39c80217c",
   "metadata": {},
   "outputs": [
    {
     "data": {
      "text/plain": [
       "'Q5. What are Custom Exceptions in python? Why do we need Custom Exceptions? Explain with an example. '"
      ]
     },
     "execution_count": 26,
     "metadata": {},
     "output_type": "execute_result"
    }
   ],
   "source": [
    "'''Q5. What are Custom Exceptions in python? Why do we need Custom Exceptions? Explain with an example. '''"
   ]
  },
  {
   "cell_type": "code",
   "execution_count": 27,
   "id": "c2c04b57-8e36-42bf-9536-956d2111a3b6",
   "metadata": {},
   "outputs": [
    {
     "data": {
      "text/plain": [
       "'There may be scenario where none of the exception in Python are useful for the programmer. In that case, the programmer can create his own exception and raise'"
      ]
     },
     "execution_count": 27,
     "metadata": {},
     "output_type": "execute_result"
    }
   ],
   "source": [
    "'''There may be scenario where none of the exception in Python are useful for the programmer. In that case, the programmer can create his own exception and raise'''"
   ]
  },
  {
   "cell_type": "code",
   "execution_count": 28,
   "id": "bc8a34e4-d0d7-4dd6-9070-6958977f266e",
   "metadata": {},
   "outputs": [
    {
     "name": "stdin",
     "output_type": "stream",
     "text": [
      "enter your age :  15\n"
     ]
    },
    {
     "name": "stdout",
     "output_type": "stream",
     "text": [
      "you are not allowed\n"
     ]
    }
   ],
   "source": [
    "# Example :\n",
    "\n",
    "class myException(Exception):\n",
    "    '''this is the custome exception class created'''\n",
    "    def __init__(self,msg):\n",
    "        self.msg = msg\n",
    "\n",
    "age = int(input('enter your age : '))\n",
    "def validate(age):\n",
    "    if(age < 18):\n",
    "        raise myException('you are not allowed')\n",
    "try:\n",
    "    validate(age)\n",
    "except myException as e:\n",
    "    print(e)"
   ]
  },
  {
   "cell_type": "code",
   "execution_count": 29,
   "id": "ed520e8b-ff13-4959-af95-363536e40842",
   "metadata": {},
   "outputs": [
    {
     "data": {
      "text/plain": [
       "'Q6. Create a custom exception class. Use this class to handle an exception. '"
      ]
     },
     "execution_count": 29,
     "metadata": {},
     "output_type": "execute_result"
    }
   ],
   "source": [
    "'''Q6. Create a custom exception class. Use this class to handle an exception. '''"
   ]
  },
  {
   "cell_type": "code",
   "execution_count": 30,
   "id": "5bd31be3-7b99-40e9-a123-9a710b31d9a6",
   "metadata": {},
   "outputs": [
    {
     "name": "stdin",
     "output_type": "stream",
     "text": [
      "enter your age :  21\n"
     ]
    }
   ],
   "source": [
    "class myException(Exception):\n",
    "    '''this is the custome exception class created'''\n",
    "    def __init__(self,msg):\n",
    "        self.msg = msg\n",
    "\n",
    "age = int(input('enter your age : '))\n",
    "def validate(age):\n",
    "    if(age < 18):\n",
    "        raise myException('you are not allowed')\n",
    "try:\n",
    "    validate(age)\n",
    "except myException as e:\n",
    "    print(e)"
   ]
  },
  {
   "cell_type": "code",
   "execution_count": null,
   "id": "a45b65ab-dc72-403d-94db-b03272cf94ac",
   "metadata": {},
   "outputs": [],
   "source": []
  }
 ],
 "metadata": {
  "kernelspec": {
   "display_name": "Python 3 (ipykernel)",
   "language": "python",
   "name": "python3"
  },
  "language_info": {
   "codemirror_mode": {
    "name": "ipython",
    "version": 3
   },
   "file_extension": ".py",
   "mimetype": "text/x-python",
   "name": "python",
   "nbconvert_exporter": "python",
   "pygments_lexer": "ipython3",
   "version": "3.10.8"
  }
 },
 "nbformat": 4,
 "nbformat_minor": 5
}
