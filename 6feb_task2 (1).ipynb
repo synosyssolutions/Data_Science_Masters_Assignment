{
 "cells": [
  {
   "cell_type": "code",
   "execution_count": 1,
   "id": "5878053d-ccc6-40f1-a15a-7076cba6da45",
   "metadata": {},
   "outputs": [
    {
     "data": {
      "text/plain": [
       "'Q1. You are writing code for a company. The requirement of the company is that you create a python function that will check whether the password entered by the user is correct or not. The function should take the password as input and return the string “Valid Password” if the entered password follows the below-given password guidelines else it should return “Invalid Password”.   \\nNote: 1. The Password should contain at least two uppercase letters and at least two lowercase letters.  2. The Password should contain at least a number and three special characters.  3. The length of the password should be 10 characters long.\\n'"
      ]
     },
     "execution_count": 1,
     "metadata": {},
     "output_type": "execute_result"
    }
   ],
   "source": [
    "'''Q1. You are writing code for a company. The requirement of the company is that you create a python function that will check whether the password entered by the user is correct or not. The function should take the password as input and return the string “Valid Password” if the entered password follows the below-given password guidelines else it should return “Invalid Password”.   \n",
    "Note: 1. The Password should contain at least two uppercase letters and at least two lowercase letters.  2. The Password should contain at least a number and three special characters.  3. The length of the password should be 10 characters long.\n",
    "'''"
   ]
  },
  {
   "cell_type": "code",
   "execution_count": 2,
   "id": "cb2f932b-9a7e-4ede-87e9-b7e36c2f9643",
   "metadata": {},
   "outputs": [],
   "source": [
    "def pass_check(password):\n",
    "    uppercase=0\n",
    "    lowercase = 0\n",
    "    special = 0\n",
    "    number = 0\n",
    "    if len(password) < 10:\n",
    "        return 'Invalid Password'\n",
    "    for i in password:\n",
    "        if i.isupper():\n",
    "            uppercase = uppercase + 1\n",
    "        elif i.islower(): \n",
    "            lowercase = lowercase + 1\n",
    "        elif i in ['@','$','#','&','_']:\n",
    "            special = special + 1\n",
    "        elif type(int(i)) == int:\n",
    "            number = number + 1\n",
    "    if(uppercase >= 2 and lowercase >= 2 and special >= 3 and number >= 1):\n",
    "        return 'Valid Password'\n",
    "    else:\n",
    "        return 'Invalid Password'\n",
    "            "
   ]
  },
  {
   "cell_type": "code",
   "execution_count": 3,
   "id": "6c231880-9262-4c8d-a151-90f4a40fe1b8",
   "metadata": {},
   "outputs": [
    {
     "data": {
      "text/plain": [
       "'Valid Password'"
      ]
     },
     "execution_count": 3,
     "metadata": {},
     "output_type": "execute_result"
    }
   ],
   "source": [
    "pass_check('Piyus@12#_K')"
   ]
  },
  {
   "cell_type": "code",
   "execution_count": 4,
   "id": "9ee2c5f2-be57-44ae-8636-a27079d57609",
   "metadata": {},
   "outputs": [
    {
     "data": {
      "text/plain": [
       "'Check if the string starts with a particular letter'"
      ]
     },
     "execution_count": 4,
     "metadata": {},
     "output_type": "execute_result"
    }
   ],
   "source": [
    "'''Check if the string starts with a particular letter'''"
   ]
  },
  {
   "cell_type": "code",
   "execution_count": 5,
   "id": "022f17a7-ab5b-4fa3-ba67-9cb38a9d4ff9",
   "metadata": {},
   "outputs": [],
   "source": [
    "# check if the string starts with letter 'p'"
   ]
  },
  {
   "cell_type": "code",
   "execution_count": 6,
   "id": "cb028f11-a783-4ad7-81f8-069d856879da",
   "metadata": {},
   "outputs": [],
   "source": [
    "s = 'piyush'\n",
    "s1 = 'sunny'"
   ]
  },
  {
   "cell_type": "code",
   "execution_count": 7,
   "id": "93e2198d-e629-4e9b-baee-8e013ec59934",
   "metadata": {},
   "outputs": [],
   "source": [
    "val = lambda x : x.startswith('p')"
   ]
  },
  {
   "cell_type": "code",
   "execution_count": 8,
   "id": "71c54a8d-a0a8-41da-972a-1f99de07b1d4",
   "metadata": {},
   "outputs": [
    {
     "data": {
      "text/plain": [
       "True"
      ]
     },
     "execution_count": 8,
     "metadata": {},
     "output_type": "execute_result"
    }
   ],
   "source": [
    "val(s)"
   ]
  },
  {
   "cell_type": "code",
   "execution_count": 9,
   "id": "7d397685-f46e-40fe-af08-49a9bdbcf484",
   "metadata": {},
   "outputs": [
    {
     "data": {
      "text/plain": [
       "False"
      ]
     },
     "execution_count": 9,
     "metadata": {},
     "output_type": "execute_result"
    }
   ],
   "source": [
    "val(s1)"
   ]
  },
  {
   "cell_type": "code",
   "execution_count": 10,
   "id": "262b7346-2ebf-4423-adb0-e038d8d98dc8",
   "metadata": {},
   "outputs": [],
   "source": [
    "# check if the string is numeric"
   ]
  },
  {
   "cell_type": "code",
   "execution_count": 11,
   "id": "40760752-3b80-42b5-ba89-a896e66076b0",
   "metadata": {},
   "outputs": [],
   "source": [
    "s2 = \"1234\""
   ]
  },
  {
   "cell_type": "code",
   "execution_count": 12,
   "id": "717927a7-f234-4bc8-a82e-13f484cddf57",
   "metadata": {},
   "outputs": [],
   "source": [
    "val1 = lambda x : x.isnumeric()"
   ]
  },
  {
   "cell_type": "code",
   "execution_count": 13,
   "id": "46a31687-3342-4430-a8a1-c4e0a2c1c849",
   "metadata": {},
   "outputs": [
    {
     "data": {
      "text/plain": [
       "True"
      ]
     },
     "execution_count": 13,
     "metadata": {},
     "output_type": "execute_result"
    }
   ],
   "source": [
    "val1(s2)"
   ]
  },
  {
   "cell_type": "code",
   "execution_count": 14,
   "id": "f23c0d19-6d85-47ae-80b2-c158a846a3b5",
   "metadata": {},
   "outputs": [
    {
     "data": {
      "text/plain": [
       "False"
      ]
     },
     "execution_count": 14,
     "metadata": {},
     "output_type": "execute_result"
    }
   ],
   "source": [
    "val1(\"acsd\")"
   ]
  },
  {
   "cell_type": "code",
   "execution_count": 15,
   "id": "f084619b-d8dd-4e0f-87c7-3fab9c005f86",
   "metadata": {},
   "outputs": [],
   "source": [
    "# Sort a list of tuples having fruit names and their quantity. \n",
    "# [(\"mango\",99),(\"orange\",80), (\"grapes\", 1000) "
   ]
  },
  {
   "cell_type": "code",
   "execution_count": 16,
   "id": "0c965594-42c2-4307-a88d-e4577929f3e1",
   "metadata": {},
   "outputs": [],
   "source": [
    "l = [(\"mango\",99),(\"orange\",80), (\"grapes\", 1000)]"
   ]
  },
  {
   "cell_type": "code",
   "execution_count": 17,
   "id": "6f378a4a-bf40-42cc-ae5c-ec9bb08d8f31",
   "metadata": {},
   "outputs": [],
   "source": [
    "l.sort(key = lambda x: x[1]) #for sorting on basis of quantity"
   ]
  },
  {
   "cell_type": "code",
   "execution_count": 18,
   "id": "2a7b8ded-40fc-443b-aa6d-3dec54ba9206",
   "metadata": {},
   "outputs": [
    {
     "data": {
      "text/plain": [
       "[('orange', 80), ('mango', 99), ('grapes', 1000)]"
      ]
     },
     "execution_count": 18,
     "metadata": {},
     "output_type": "execute_result"
    }
   ],
   "source": [
    "l"
   ]
  },
  {
   "cell_type": "code",
   "execution_count": 19,
   "id": "4eaa8023-e825-43da-96b2-df08ce92a751",
   "metadata": {},
   "outputs": [],
   "source": [
    "l.sort(key = lambda x: x[0]) # sorting on basis of alphabets"
   ]
  },
  {
   "cell_type": "code",
   "execution_count": 20,
   "id": "a0f30d11-6430-466c-a597-23e4efd7c117",
   "metadata": {},
   "outputs": [
    {
     "data": {
      "text/plain": [
       "[('grapes', 1000), ('mango', 99), ('orange', 80)]"
      ]
     },
     "execution_count": 20,
     "metadata": {},
     "output_type": "execute_result"
    }
   ],
   "source": [
    "l"
   ]
  },
  {
   "cell_type": "code",
   "execution_count": 21,
   "id": "23c136c4-ab62-4c71-8940-8f8919706a8d",
   "metadata": {},
   "outputs": [],
   "source": [
    "#Find the squares of numbers from 1 to 10 "
   ]
  },
  {
   "cell_type": "code",
   "execution_count": 22,
   "id": "fdb5c845-55eb-4839-8252-9e1f99cbf175",
   "metadata": {},
   "outputs": [
    {
     "data": {
      "text/plain": [
       "[1, 4, 9, 16, 25, 36, 49, 64, 81, 100]"
      ]
     },
     "execution_count": 22,
     "metadata": {},
     "output_type": "execute_result"
    }
   ],
   "source": [
    "list(map(lambda x: x ** 2 , list(range(1,11))))"
   ]
  },
  {
   "cell_type": "code",
   "execution_count": 23,
   "id": "6635a220-1de1-40cc-b038-d3497819be11",
   "metadata": {},
   "outputs": [],
   "source": [
    "# Find the cube root of numbers from 1 to 10"
   ]
  },
  {
   "cell_type": "code",
   "execution_count": 24,
   "id": "1aa22695-a588-4b3f-a7da-1b2af4ed01cc",
   "metadata": {},
   "outputs": [
    {
     "data": {
      "text/plain": [
       "[0.3333333333333333,\n",
       " 0.6666666666666666,\n",
       " 1.0,\n",
       " 1.3333333333333333,\n",
       " 1.6666666666666667,\n",
       " 2.0,\n",
       " 2.3333333333333335,\n",
       " 2.6666666666666665,\n",
       " 3.0,\n",
       " 3.3333333333333335]"
      ]
     },
     "execution_count": 24,
     "metadata": {},
     "output_type": "execute_result"
    }
   ],
   "source": [
    "list(map(lambda x: x ** 1/3 , list(range(1,11))))"
   ]
  },
  {
   "cell_type": "code",
   "execution_count": 25,
   "id": "070435aa-ec6c-46a3-aae5-18c0429c644c",
   "metadata": {},
   "outputs": [],
   "source": [
    "# Check if a given number is even"
   ]
  },
  {
   "cell_type": "code",
   "execution_count": 26,
   "id": "5baf1eea-cd64-4f48-9e4c-786377a3b544",
   "metadata": {},
   "outputs": [
    {
     "data": {
      "text/plain": [
       "[2, 4, 6, 8, 10]"
      ]
     },
     "execution_count": 26,
     "metadata": {},
     "output_type": "execute_result"
    }
   ],
   "source": [
    "list(filter(lambda x : x % 2 == 0, list(range(1,11))))"
   ]
  },
  {
   "cell_type": "code",
   "execution_count": 27,
   "id": "7814e9c7-26e9-41a4-9124-8bfce2019245",
   "metadata": {},
   "outputs": [],
   "source": [
    "# Filter odd numbers from the given list.\n",
    "# [1,2,3,4,5,6,7,8,9,10]"
   ]
  },
  {
   "cell_type": "code",
   "execution_count": 28,
   "id": "05c165ec-0e04-4f40-a2e7-20f94853116a",
   "metadata": {},
   "outputs": [
    {
     "data": {
      "text/plain": [
       "[1, 3, 5, 7, 9]"
      ]
     },
     "execution_count": 28,
     "metadata": {},
     "output_type": "execute_result"
    }
   ],
   "source": [
    "list(filter(lambda x : x % 2 != 0, list(range(1,11))))"
   ]
  },
  {
   "cell_type": "code",
   "execution_count": 29,
   "id": "c31c0599-1209-46ab-bb7c-287ff60e5b97",
   "metadata": {},
   "outputs": [],
   "source": [
    "# Sort a list of integers into positive and negative integers lists.\n",
    "# [1,2,3,4,5,6,-1,-2,-3,-4,-5,0]"
   ]
  },
  {
   "cell_type": "code",
   "execution_count": 1,
   "id": "9187355b-ac67-41d5-9028-31e846eca5f8",
   "metadata": {},
   "outputs": [],
   "source": [
    "l1 = [1,2,3,4,5,6,-1,-2,-3,-4,-5,0]\n",
    "\n",
    "positive = [i for i in l1 if i >= 0] \n",
    "positive.sort()\n",
    "negative = [i for i in l1 if i < 0]\n",
    "negative.sort()\n"
   ]
  },
  {
   "cell_type": "code",
   "execution_count": 3,
   "id": "a04c1ff3-544a-4d5d-9bef-fc67ff7c0416",
   "metadata": {},
   "outputs": [
    {
     "data": {
      "text/plain": [
       "[0, 1, 2, 3, 4, 5, 6]"
      ]
     },
     "execution_count": 3,
     "metadata": {},
     "output_type": "execute_result"
    }
   ],
   "source": [
    "positive"
   ]
  },
  {
   "cell_type": "code",
   "execution_count": 4,
   "id": "908328d4-25fc-4767-8e81-f57d008f82fb",
   "metadata": {},
   "outputs": [
    {
     "data": {
      "text/plain": [
       "[-5, -4, -3, -2, -1]"
      ]
     },
     "execution_count": 4,
     "metadata": {},
     "output_type": "execute_result"
    }
   ],
   "source": [
    "negative"
   ]
  },
  {
   "cell_type": "code",
   "execution_count": null,
   "id": "3f2b96fd-e2b3-4852-8b70-d3c2cff26247",
   "metadata": {},
   "outputs": [],
   "source": []
  }
 ],
 "metadata": {
  "kernelspec": {
   "display_name": "Python 3 (ipykernel)",
   "language": "python",
   "name": "python3"
  },
  "language_info": {
   "codemirror_mode": {
    "name": "ipython",
    "version": 3
   },
   "file_extension": ".py",
   "mimetype": "text/x-python",
   "name": "python",
   "nbconvert_exporter": "python",
   "pygments_lexer": "ipython3",
   "version": "3.10.8"
  }
 },
 "nbformat": 4,
 "nbformat_minor": 5
}
