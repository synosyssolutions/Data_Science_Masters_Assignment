{
 "cells": [
  {
   "cell_type": "code",
   "execution_count": 1,
   "id": "dfbd1f98-220e-4c2a-af85-88c9ae99ce65",
   "metadata": {},
   "outputs": [],
   "source": [
    "# Q1. Which keyword is used to create a function? Create a function to return a list of odd numbers in the range of 1 to 25."
   ]
  },
  {
   "cell_type": "code",
   "execution_count": 2,
   "id": "46917f7e-a057-42a3-8642-934502aff053",
   "metadata": {},
   "outputs": [
    {
     "name": "stdout",
     "output_type": "stream",
     "text": [
      "[1, 3, 5, 7, 9, 11, 13, 15, 17, 19, 21, 23, 25]\n"
     ]
    }
   ],
   "source": [
    "''' def keyword is used to create a function'''\n",
    "\n",
    "# function to return odd numbers between 1 to 25\n",
    "\n",
    "def odd_num(num,l):\n",
    "    if(num % 2 != 0):\n",
    "        l.append(num)\n",
    "\n",
    "l = []        \n",
    "for i in range(1,26):\n",
    "    odd_num(i,l)\n",
    "    \n",
    "print(l)    \n",
    "        \n",
    "        "
   ]
  },
  {
   "cell_type": "code",
   "execution_count": 3,
   "id": "c940a585-3a9a-4771-85db-134387f4cc12",
   "metadata": {},
   "outputs": [],
   "source": [
    "# Q2. Why *args and **kwargs is used in some functions? Create a function each for *args and **kwargs to demonstrate their use."
   ]
  },
  {
   "cell_type": "code",
   "execution_count": 9,
   "id": "f93d1b34-86eb-4184-b421-759a692f5af4",
   "metadata": {},
   "outputs": [
    {
     "data": {
      "text/plain": [
       "150"
      ]
     },
     "execution_count": 9,
     "metadata": {},
     "output_type": "execute_result"
    }
   ],
   "source": [
    "''' *args is used to provide non keyword variable arguments to a function where as **kwargs is used to provide keyword argumrents'''\n",
    "\n",
    "# example using *args\n",
    "\n",
    "def sum_num(*args):\n",
    "    sum = 0\n",
    "    for i in args:\n",
    "        sum += i\n",
    "    return sum    \n",
    "\n",
    "sum_num(10,20,30,40,50)   "
   ]
  },
  {
   "cell_type": "code",
   "execution_count": 10,
   "id": "1d1e444e-8444-4422-86ac-60ec8cb88eb2",
   "metadata": {},
   "outputs": [
    {
     "data": {
      "text/plain": [
       "360"
      ]
     },
     "execution_count": 10,
     "metadata": {},
     "output_type": "execute_result"
    }
   ],
   "source": [
    "sum_num(10,20,30,40,50,60,70,80) "
   ]
  },
  {
   "cell_type": "code",
   "execution_count": 11,
   "id": "95680f1a-7ad2-42fd-a02a-0ea7ed187eba",
   "metadata": {},
   "outputs": [
    {
     "data": {
      "text/plain": [
       "650"
      ]
     },
     "execution_count": 11,
     "metadata": {},
     "output_type": "execute_result"
    }
   ],
   "source": [
    "sum_num(10,20,30,40,50,500)  "
   ]
  },
  {
   "cell_type": "code",
   "execution_count": 12,
   "id": "361c7d62-d398-47f7-b1c9-9d757d8138c0",
   "metadata": {},
   "outputs": [],
   "source": [
    "# example using **kwargs"
   ]
  },
  {
   "cell_type": "code",
   "execution_count": 13,
   "id": "0379b513-ca9f-4bb1-8727-381826f5f76e",
   "metadata": {},
   "outputs": [
    {
     "name": "stdout",
     "output_type": "stream",
     "text": [
      "Firstname is Sita\n",
      "Lastname is Sharma\n",
      "Age is 22\n",
      "Phone is 1234567890\n",
      "Firstname is John\n",
      "Lastname is Wood\n",
      "Email is johnwood@nomail.com\n",
      "Country is Wakanda\n",
      "Age is 25\n",
      "Phone is 9876543210\n"
     ]
    }
   ],
   "source": [
    "def dict_data(**kwargs):\n",
    "    for k,v in kwargs.items():\n",
    "        print(\"{} is {}\".format(k,v))\n",
    "        \n",
    "dict_data(Firstname=\"Sita\", Lastname=\"Sharma\", Age=22, Phone=1234567890)\n",
    "dict_data(Firstname=\"John\", Lastname=\"Wood\", Email=\"johnwood@nomail.com\", Country=\"Wakanda\", Age=25, Phone=9876543210)        "
   ]
  },
  {
   "cell_type": "code",
   "execution_count": 14,
   "id": "cbc7d667-970b-47c6-8f71-35a303421659",
   "metadata": {},
   "outputs": [],
   "source": [
    "# Q3. What is an iterator in python? Name the method used to initialise the iterator object and the method used for iteration. Use these methods to print the first five elements of the given list [2, 4, 6, 8, 10, 12, 14, 16, 18, 20]."
   ]
  },
  {
   "cell_type": "code",
   "execution_count": 15,
   "id": "b336c9ba-bba7-46da-bf4f-522078089c5d",
   "metadata": {},
   "outputs": [
    {
     "name": "stdout",
     "output_type": "stream",
     "text": [
      "2\n"
     ]
    }
   ],
   "source": [
    "'''An iterator is an object that can be iterated upon, meaning that you can traverse through all the values.'''\n",
    "''' iter() method is used to initialize the iterator object'''\n",
    "\n",
    "l = [2, 4, 6, 8, 10, 12, 14, 16, 18, 20]\n",
    "\n",
    "i = iter(l)\n",
    "print(next(i))"
   ]
  },
  {
   "cell_type": "code",
   "execution_count": 16,
   "id": "cf39a93a-6bee-49c2-9166-a03064370967",
   "metadata": {},
   "outputs": [
    {
     "name": "stdout",
     "output_type": "stream",
     "text": [
      "4\n"
     ]
    }
   ],
   "source": [
    "print(next(i))"
   ]
  },
  {
   "cell_type": "code",
   "execution_count": 17,
   "id": "e8a097bd-285f-427f-9abd-1a1549f52c61",
   "metadata": {},
   "outputs": [
    {
     "name": "stdout",
     "output_type": "stream",
     "text": [
      "6\n"
     ]
    }
   ],
   "source": [
    "print(next(i))"
   ]
  },
  {
   "cell_type": "code",
   "execution_count": 18,
   "id": "7a2a87cc-f177-4e3d-b6fc-0506bf8fa1a8",
   "metadata": {},
   "outputs": [
    {
     "name": "stdout",
     "output_type": "stream",
     "text": [
      "8\n"
     ]
    }
   ],
   "source": [
    "print(next(i))"
   ]
  },
  {
   "cell_type": "code",
   "execution_count": 19,
   "id": "d23a6752-d83c-4d12-ad0a-52f4c946a40a",
   "metadata": {},
   "outputs": [
    {
     "name": "stdout",
     "output_type": "stream",
     "text": [
      "10\n"
     ]
    }
   ],
   "source": [
    "print(next(i))"
   ]
  },
  {
   "cell_type": "code",
   "execution_count": 20,
   "id": "f5c319fe-2bd0-4fd6-bcfc-d45707870ec2",
   "metadata": {},
   "outputs": [],
   "source": [
    "# Q4. What is a generator function in python? Why yield keyword is used? Give an example of a generator function."
   ]
  },
  {
   "cell_type": "code",
   "execution_count": 26,
   "id": "f86fb923-493b-46ac-97d0-b43d33f3496f",
   "metadata": {},
   "outputs": [
    {
     "name": "stdout",
     "output_type": "stream",
     "text": [
      "<class 'generator'>\n"
     ]
    }
   ],
   "source": [
    "'''a generator is a function that returns an iterator that produces a sequence of values when iterated over'''\n",
    "''' yield keyword is used for returning generator objects'''\n",
    "\n",
    "def gen_func():\n",
    "    for i in range(1,11):\n",
    "        yield i\n",
    "        \n",
    "f = gen_func()\n",
    "\n",
    "print(type(f))"
   ]
  },
  {
   "cell_type": "code",
   "execution_count": 27,
   "id": "14ff1c9c-e91e-4c24-8600-37525129e33d",
   "metadata": {},
   "outputs": [
    {
     "name": "stdout",
     "output_type": "stream",
     "text": [
      "1\n"
     ]
    }
   ],
   "source": [
    "print(next(f))"
   ]
  },
  {
   "cell_type": "code",
   "execution_count": 28,
   "id": "4f4c22da-ffae-41e0-9aa7-8f0bfbcbe0d2",
   "metadata": {},
   "outputs": [
    {
     "name": "stdout",
     "output_type": "stream",
     "text": [
      "2\n",
      "3\n",
      "4\n",
      "5\n",
      "6\n",
      "7\n",
      "8\n",
      "9\n",
      "10\n"
     ]
    }
   ],
   "source": [
    "for i in f:\n",
    "    print(i)"
   ]
  },
  {
   "cell_type": "code",
   "execution_count": 1,
   "id": "6c1775a9-2b72-44e8-976f-cbdd97f1f835",
   "metadata": {},
   "outputs": [],
   "source": [
    "# Q5. Create a generator function for prime numbers less than 1000. Use the next() method to print the first 20 prime numbers."
   ]
  },
  {
   "cell_type": "code",
   "execution_count": 31,
   "id": "b32cf5ec-7743-45a4-a3dc-fe005f08269a",
   "metadata": {},
   "outputs": [],
   "source": [
    "start  = 1\n",
    "end = 1001\n",
    "\n",
    "def is_prime(n):\n",
    "    if n < 2:\n",
    "        return False\n",
    "    for i in range(2,int(n ** 0.5) + 1):\n",
    "        if(n % i == 0):\n",
    "            return False\n",
    "    return True    \n",
    "\n",
    "\n",
    "def prime_number(start,end):\n",
    "    for n in range(start,end+1):\n",
    "        if is_prime(n):\n",
    "            yield n\n",
    "            \n",
    "            \n",
    "p = prime_number(start,end)            \n",
    "            "
   ]
  },
  {
   "cell_type": "code",
   "execution_count": 32,
   "id": "18fbd02c-98fc-41e6-b32f-9a124e48f3c9",
   "metadata": {},
   "outputs": [
    {
     "data": {
      "text/plain": [
       "generator"
      ]
     },
     "execution_count": 32,
     "metadata": {},
     "output_type": "execute_result"
    }
   ],
   "source": [
    "type(p)"
   ]
  },
  {
   "cell_type": "code",
   "execution_count": 33,
   "id": "c47b8b27-f304-4479-a1ce-0152710dc5be",
   "metadata": {},
   "outputs": [
    {
     "data": {
      "text/plain": [
       "2"
      ]
     },
     "execution_count": 33,
     "metadata": {},
     "output_type": "execute_result"
    }
   ],
   "source": [
    "next(p)"
   ]
  },
  {
   "cell_type": "code",
   "execution_count": 34,
   "id": "459250ce-640b-44d9-b188-920a3725e14a",
   "metadata": {},
   "outputs": [
    {
     "data": {
      "text/plain": [
       "3"
      ]
     },
     "execution_count": 34,
     "metadata": {},
     "output_type": "execute_result"
    }
   ],
   "source": [
    "next(p)"
   ]
  },
  {
   "cell_type": "code",
   "execution_count": 35,
   "id": "647ecc98-54e4-4fed-bf28-611bf91ef5ec",
   "metadata": {},
   "outputs": [
    {
     "data": {
      "text/plain": [
       "5"
      ]
     },
     "execution_count": 35,
     "metadata": {},
     "output_type": "execute_result"
    }
   ],
   "source": [
    "next(p)"
   ]
  },
  {
   "cell_type": "code",
   "execution_count": 36,
   "id": "63b29bd0-e82e-4bd6-82f7-57cc7c78981c",
   "metadata": {},
   "outputs": [
    {
     "data": {
      "text/plain": [
       "7"
      ]
     },
     "execution_count": 36,
     "metadata": {},
     "output_type": "execute_result"
    }
   ],
   "source": [
    "next(p)\n"
   ]
  },
  {
   "cell_type": "code",
   "execution_count": 37,
   "id": "ea2e216f-b682-49a4-914c-94f02c93738c",
   "metadata": {},
   "outputs": [
    {
     "data": {
      "text/plain": [
       "11"
      ]
     },
     "execution_count": 37,
     "metadata": {},
     "output_type": "execute_result"
    }
   ],
   "source": [
    "next(p)"
   ]
  },
  {
   "cell_type": "code",
   "execution_count": 38,
   "id": "a7f15eef-6a22-4896-9d24-3e23eb10dc2e",
   "metadata": {},
   "outputs": [
    {
     "data": {
      "text/plain": [
       "13"
      ]
     },
     "execution_count": 38,
     "metadata": {},
     "output_type": "execute_result"
    }
   ],
   "source": [
    "next(p)"
   ]
  },
  {
   "cell_type": "code",
   "execution_count": 39,
   "id": "b7631062-feb5-477d-b549-3ce15a6a3f8c",
   "metadata": {},
   "outputs": [
    {
     "data": {
      "text/plain": [
       "17"
      ]
     },
     "execution_count": 39,
     "metadata": {},
     "output_type": "execute_result"
    }
   ],
   "source": [
    "next(p)"
   ]
  },
  {
   "cell_type": "code",
   "execution_count": 40,
   "id": "6e81f291-8580-48ba-ba77-d70aa159b436",
   "metadata": {},
   "outputs": [
    {
     "data": {
      "text/plain": [
       "19"
      ]
     },
     "execution_count": 40,
     "metadata": {},
     "output_type": "execute_result"
    }
   ],
   "source": [
    "next(p)"
   ]
  },
  {
   "cell_type": "code",
   "execution_count": 41,
   "id": "61fb2be9-34f1-4c38-9c8a-3a90158f2247",
   "metadata": {},
   "outputs": [
    {
     "data": {
      "text/plain": [
       "23"
      ]
     },
     "execution_count": 41,
     "metadata": {},
     "output_type": "execute_result"
    }
   ],
   "source": [
    "next(p)"
   ]
  },
  {
   "cell_type": "code",
   "execution_count": 42,
   "id": "11ae4606-0d7b-4064-9e2e-2e2bd47e5361",
   "metadata": {},
   "outputs": [],
   "source": [
    "# Write a python program to print the first 10 Fibonacci numbers using a while loop."
   ]
  },
  {
   "cell_type": "code",
   "execution_count": 2,
   "id": "aae151e0-5353-41aa-b06e-7e998de0d016",
   "metadata": {},
   "outputs": [
    {
     "name": "stdout",
     "output_type": "stream",
     "text": [
      "0\n",
      "1\n",
      "1\n",
      "2\n",
      "3\n",
      "5\n",
      "8\n",
      "13\n",
      "21\n",
      "34\n"
     ]
    }
   ],
   "source": [
    "a = 0\n",
    "b = 1\n",
    "n = 1\n",
    "while n <= 10:\n",
    "    sum = a + b\n",
    "    b = a\n",
    "    print(a)\n",
    "    a = sum\n",
    "    n += 1"
   ]
  },
  {
   "cell_type": "code",
   "execution_count": 3,
   "id": "69379da1-5fac-4745-8b1e-08c61fd40a0c",
   "metadata": {},
   "outputs": [],
   "source": [
    "# Q7. Write a List Comprehension to iterate through the given string: ‘pwskills’.\n",
    "# Expected output: ['p', 'w', 's', 'k', 'i', 'l', 'l', 's']"
   ]
  },
  {
   "cell_type": "code",
   "execution_count": 4,
   "id": "ba1059e3-92ea-4d5e-9de1-bd400f1dd29d",
   "metadata": {},
   "outputs": [
    {
     "data": {
      "text/plain": [
       "['p', 'w', 's', 'k', 'i', 'l', 'l', 's']"
      ]
     },
     "execution_count": 4,
     "metadata": {},
     "output_type": "execute_result"
    }
   ],
   "source": [
    "[i for i in 'pwskills']"
   ]
  },
  {
   "cell_type": "code",
   "execution_count": 5,
   "id": "4a3c12c0-dad5-4fbc-b587-da10d882a6d8",
   "metadata": {},
   "outputs": [],
   "source": [
    "# Write a python program to check whether a given number is Palindrome or not using a while loop."
   ]
  },
  {
   "cell_type": "code",
   "execution_count": null,
   "id": "eb9a0fcd-55e8-4a38-bfdf-f27d348e1207",
   "metadata": {},
   "outputs": [],
   "source": [
    "num=int(input(\"Enter a number:\"))\n",
    "temp=num\n",
    "rev=0\n",
    "while(num>0):\n",
    "    dig=num%10\n",
    "    rev=rev*10+dig\n",
    "    num=num//10\n",
    "if(temp==rev):\n",
    "    print(\"The number is palindrome!\")\n",
    "else:\n",
    "    print(\"Not a palindrome!\") "
   ]
  },
  {
   "cell_type": "code",
   "execution_count": null,
   "id": "8e5a5d52-0bef-4047-8430-111a791a85cd",
   "metadata": {},
   "outputs": [],
   "source": [
    "#Q9. Write a code to print odd numbers from 1 to 100 using list comprehension."
   ]
  },
  {
   "cell_type": "code",
   "execution_count": null,
   "id": "855a8dd5-586a-4c6b-b5cf-b3a9a19e82ef",
   "metadata": {},
   "outputs": [],
   "source": [
    "[k for k in [i for i in range(1,101)] if k % 2 != 0]"
   ]
  },
  {
   "cell_type": "code",
   "execution_count": null,
   "id": "c421605a-07be-409f-b2b6-b302a8ed4fb1",
   "metadata": {},
   "outputs": [],
   "source": []
  },
  {
   "cell_type": "code",
   "execution_count": null,
   "id": "7f550f3d-6acc-4395-abe7-97277cd20808",
   "metadata": {},
   "outputs": [],
   "source": []
  },
  {
   "cell_type": "code",
   "execution_count": null,
   "id": "0225c1c3-0441-489f-ac2c-e826c34185c2",
   "metadata": {},
   "outputs": [],
   "source": []
  },
  {
   "cell_type": "code",
   "execution_count": null,
   "id": "41b01744-d20e-41df-a511-2c3550b0f041",
   "metadata": {},
   "outputs": [],
   "source": []
  }
 ],
 "metadata": {
  "kernelspec": {
   "display_name": "Python 3 (ipykernel)",
   "language": "python",
   "name": "python3"
  },
  "language_info": {
   "codemirror_mode": {
    "name": "ipython",
    "version": 3
   },
   "file_extension": ".py",
   "mimetype": "text/x-python",
   "name": "python",
   "nbconvert_exporter": "python",
   "pygments_lexer": "ipython3",
   "version": "3.10.8"
  }
 },
 "nbformat": 4,
 "nbformat_minor": 5
}
