{
 "cells": [
  {
   "cell_type": "code",
   "execution_count": 1,
   "id": "b1b5b725-05f5-415b-a6c7-48854c77b306",
   "metadata": {},
   "outputs": [
    {
     "data": {
      "text/plain": [
       "'Q1. What is an API? Give an example, where an API is used in real life.'"
      ]
     },
     "execution_count": 1,
     "metadata": {},
     "output_type": "execute_result"
    }
   ],
   "source": [
    "'''Q1. What is an API? Give an example, where an API is used in real life.'''"
   ]
  },
  {
   "cell_type": "code",
   "execution_count": 2,
   "id": "d1b1e417-e626-4614-ab04-6c8998523264",
   "metadata": {},
   "outputs": [
    {
     "data": {
      "text/plain": [
       "'Ans: APIs are mechanisms that enable two software components to communicate with each other using a set of definitions and protocols.'"
      ]
     },
     "execution_count": 2,
     "metadata": {},
     "output_type": "execute_result"
    }
   ],
   "source": [
    "'''Ans: APIs are mechanisms that enable two software components to communicate with each other using a set of definitions and protocols.'''"
   ]
  },
  {
   "cell_type": "code",
   "execution_count": 3,
   "id": "27a17959-04e5-4e6f-8b61-b4d7be9cb896",
   "metadata": {},
   "outputs": [
    {
     "data": {
      "text/plain": [
       "'Weather app in our mobile device uses API to get latest weather details based on our latitude and longitude data'"
      ]
     },
     "execution_count": 3,
     "metadata": {},
     "output_type": "execute_result"
    }
   ],
   "source": [
    "# Example:\n",
    "'''Weather app in our mobile device uses API to get latest weather details based on our latitude and longitude data'''"
   ]
  },
  {
   "cell_type": "code",
   "execution_count": 4,
   "id": "1aa9a52c-e06c-4468-8e8c-7cabbb33e13f",
   "metadata": {},
   "outputs": [
    {
     "data": {
      "text/plain": [
       "'Q2. Give advantages and disadvantages of using API.'"
      ]
     },
     "execution_count": 4,
     "metadata": {},
     "output_type": "execute_result"
    }
   ],
   "source": [
    "'''Q2. Give advantages and disadvantages of using API.'''"
   ]
  },
  {
   "cell_type": "code",
   "execution_count": 7,
   "id": "e2a2d998-eb0e-4c9d-aad0-830936140de3",
   "metadata": {},
   "outputs": [
    {
     "data": {
      "text/plain": [
       "' * Improved Interoperatibility : Allows different softwares system to interact with each other\\n  * Scalibility and Flexibility\\n  * More Efficient data distribution'"
      ]
     },
     "execution_count": 7,
     "metadata": {},
     "output_type": "execute_result"
    }
   ],
   "source": [
    "# Advantages\n",
    "''' * Improved Interoperatibility : Allows different softwares system to interact with each other\n",
    "  * Scalibility and Flexibility\n",
    "  * More Efficient data distribution'''"
   ]
  },
  {
   "cell_type": "code",
   "execution_count": 9,
   "id": "57a1e0e7-0a35-4d0c-b166-746397803a57",
   "metadata": {},
   "outputs": [
    {
     "data": {
      "text/plain": [
       "'\\n    * Security and Privacy Risks\\n    * Versioning and Compatibility\\n    * Complexity and Maintenance (designing, documentation...etc)\\n'"
      ]
     },
     "execution_count": 9,
     "metadata": {},
     "output_type": "execute_result"
    }
   ],
   "source": [
    "#Disadvantages\n",
    "'''\n",
    "    * Security and Privacy Risks\n",
    "    * Versioning and Compatibility\n",
    "    * Complexity and Maintenance (designing, documentation...etc)\n",
    "'''"
   ]
  },
  {
   "cell_type": "code",
   "execution_count": 10,
   "id": "62e0052b-2192-4caf-acb7-9b16eaf774a7",
   "metadata": {},
   "outputs": [
    {
     "data": {
      "text/plain": [
       "'Q3. What is a Web API? Differentiate between API and Web API.'"
      ]
     },
     "execution_count": 10,
     "metadata": {},
     "output_type": "execute_result"
    }
   ],
   "source": [
    "'''Q3. What is a Web API? Differentiate between API and Web API.'''"
   ]
  },
  {
   "cell_type": "code",
   "execution_count": 17,
   "id": "be9ea86f-6017-40e8-b916-564d984040e4",
   "metadata": {},
   "outputs": [
    {
     "data": {
      "text/plain": [
       "'Web API is an API as the name suggests, it can be accessed over the web using the HTTPS protocol. It is a framework that helps you to create and develop HTTP based RESTFUL services.'"
      ]
     },
     "execution_count": 17,
     "metadata": {},
     "output_type": "execute_result"
    }
   ],
   "source": [
    "'''Web API is an API as the name suggests, it can be accessed over the web using the HTTPS protocol. It is a framework that helps you to create and develop HTTP based RESTFUL services.'''"
   ]
  },
  {
   "cell_type": "code",
   "execution_count": 12,
   "id": "fb3076d2-01ec-4d7e-a871-96c4591084d7",
   "metadata": {},
   "outputs": [
    {
     "data": {
      "text/plain": [
       "'Differentiate between API and Web API'"
      ]
     },
     "execution_count": 12,
     "metadata": {},
     "output_type": "execute_result"
    }
   ],
   "source": [
    "'''Differentiate between API and Web API'''"
   ]
  },
  {
   "cell_type": "code",
   "execution_count": 15,
   "id": "93e09e62-33ba-49aa-8edb-92f6d6b6cdc7",
   "metadata": {},
   "outputs": [
    {
     "data": {
      "text/plain": [
       "'Web API is subset of API ==> APi can be created using multiple protocols such as TCP/IP, HTTP and if it is created using HTTPS protocol it is called web API'"
      ]
     },
     "execution_count": 15,
     "metadata": {},
     "output_type": "execute_result"
    }
   ],
   "source": [
    "'''Web API is subset of API ==> APi can be created using multiple protocols such as TCP/IP, HTTP and if it is created using HTTPS protocol it is called web API'''"
   ]
  },
  {
   "cell_type": "code",
   "execution_count": 16,
   "id": "dd94afdc-b73c-4fbc-8118-37aed3760018",
   "metadata": {},
   "outputs": [
    {
     "data": {
      "text/plain": [
       "'Q4. Explain REST and SOAP Architecture. Mention shortcomings of SOAP.'"
      ]
     },
     "execution_count": 16,
     "metadata": {},
     "output_type": "execute_result"
    }
   ],
   "source": [
    "'''Q4. Explain REST and SOAP Architecture. Mention shortcomings of SOAP.'''"
   ]
  },
  {
   "cell_type": "code",
   "execution_count": 19,
   "id": "4043373d-70ba-4055-b311-e61e572696b2",
   "metadata": {},
   "outputs": [
    {
     "name": "stdout",
     "output_type": "stream",
     "text": [
      "SOAP => Simple Object Access Protocol                                       REST => Representational State Transfer\n",
      "* SOAP supports only XML data exchange                                      * REST supports XML, JSON, plain text, HTML.\n",
      "* SOAP is independent and can work with any transport protocol              * REST works with HTTPS protocol\n",
      "* SOAP API exposes the operation                                            * REST API exposes data\n",
      "* Difficult to scale                                                        * Easy to scale\n"
     ]
    }
   ],
   "source": [
    "print('SOAP => Simple Object Access Protocol                                       REST => Representational State Transfer' )\n",
    "print('* SOAP supports only XML data exchange                                      * REST supports XML, JSON, plain text, HTML.')\n",
    "print('* SOAP is independent and can work with any transport protocol              * REST works with HTTPS protocol')\n",
    "print('* SOAP API exposes the operation                                            * REST API exposes data')\n",
    "print('* Difficult to scale                                                        * Easy to scale')"
   ]
  },
  {
   "cell_type": "code",
   "execution_count": null,
   "id": "5f0384c7-8f30-4f20-8a8e-4e9fb9049496",
   "metadata": {},
   "outputs": [],
   "source": []
  }
 ],
 "metadata": {
  "kernelspec": {
   "display_name": "Python 3 (ipykernel)",
   "language": "python",
   "name": "python3"
  },
  "language_info": {
   "codemirror_mode": {
    "name": "ipython",
    "version": 3
   },
   "file_extension": ".py",
   "mimetype": "text/x-python",
   "name": "python",
   "nbconvert_exporter": "python",
   "pygments_lexer": "ipython3",
   "version": "3.10.8"
  }
 },
 "nbformat": 4,
 "nbformat_minor": 5
}
