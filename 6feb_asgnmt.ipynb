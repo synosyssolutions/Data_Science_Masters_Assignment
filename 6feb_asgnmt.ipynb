{
 "cells": [
  {
   "cell_type": "code",
   "execution_count": 1,
   "id": "d26316f1-07be-44cc-a984-b2af31cfb88b",
   "metadata": {},
   "outputs": [],
   "source": [
    "# Q1. Create a function which will take a list as an argument and return the product of all the numbers after creating a flat list.  Use the below-given list as an argument for your function.   \n",
    "#list1 = [1,2,3,4, [44,55,66, True], False, (34,56,78,89,34), {1,2,3,3,2,1}, {1:34, \"key2\": [55, 67, 78, 89], 4: (45, 22, 61, 34)}, [56, 'data science'], 'Machine Learning']   \n"
   ]
  },
  {
   "cell_type": "code",
   "execution_count": 2,
   "id": "3ac799ee-bb1a-4597-a9f4-9e1d237f68bd",
   "metadata": {},
   "outputs": [],
   "source": [
    "list1 = [1,2,3,4, [44,55,66, True], False, (34,56,78,89,34), {1,2,3,3,2,1}, {1:34, \"key2\": [55, 67, 78, 89], 4: (45, 22, 61, 34)}, [56, 'data science'], 'Machine Learning'] \n"
   ]
  },
  {
   "cell_type": "code",
   "execution_count": 3,
   "id": "e59baa3a-72b4-4adb-9018-f03164efecb5",
   "metadata": {},
   "outputs": [],
   "source": [
    "l1 = []\n"
   ]
  },
  {
   "cell_type": "code",
   "execution_count": 4,
   "id": "09d72e81-2097-43c9-9431-3baa3f75b605",
   "metadata": {},
   "outputs": [
    {
     "data": {
      "text/plain": [
       "[]"
      ]
     },
     "execution_count": 4,
     "metadata": {},
     "output_type": "execute_result"
    }
   ],
   "source": [
    "l1"
   ]
  },
  {
   "cell_type": "code",
   "execution_count": 5,
   "id": "f587427d-7c75-4f7d-a42f-d4c46e800143",
   "metadata": {},
   "outputs": [],
   "source": [
    "def number(l,l1):\n",
    "    for i in l:\n",
    "        if type(i) == int or type(i) == float:\n",
    "            l1.append(i)"
   ]
  },
  {
   "cell_type": "code",
   "execution_count": 6,
   "id": "7c9e553c-6816-4582-8112-729ef853e92f",
   "metadata": {},
   "outputs": [],
   "source": [
    "def number_list(l,l1):\n",
    "    number(l,l1)"
   ]
  },
  {
   "cell_type": "code",
   "execution_count": 7,
   "id": "80e3a875-5c99-4545-a9ab-17dad024d67f",
   "metadata": {},
   "outputs": [],
   "source": [
    "def number_tuple(l,l1):\n",
    "    number(l,l1)"
   ]
  },
  {
   "cell_type": "code",
   "execution_count": 8,
   "id": "5fcd1cad-4942-4bd3-b729-6879a1db69f7",
   "metadata": {},
   "outputs": [],
   "source": [
    "def number_set(l,l1):\n",
    "    number(l,l1)"
   ]
  },
  {
   "cell_type": "code",
   "execution_count": 9,
   "id": "78cd36f4-544e-4f23-ac81-303b18d932ca",
   "metadata": {},
   "outputs": [],
   "source": [
    "from functools import reduce\n",
    "def product_of_number(l,l1):\n",
    "    for j in l:\n",
    "        if type(j) == int or type(j) == float:\n",
    "            l1.append(j)\n",
    "        elif type(j) == list:\n",
    "            number_list(j,l1)\n",
    "        elif type(j) == tuple:\n",
    "            number_tuple(j,l1)\n",
    "        elif type(j) == set:\n",
    "            number_set(j,l1)\n",
    "        elif type(j) == dict:\n",
    "            for k,v in j.items():\n",
    "                if type(k) == int:\n",
    "                    l1.append(k)\n",
    "                if type(v) == int:\n",
    "                    l1.append(v)\n",
    "                if type(v) == list:\n",
    "                    number_list(v,l1)\n",
    "                if type(v) == tuple:\n",
    "                    number_tuple(v,l1)\n",
    "                \n",
    "    product = reduce(lambda x,y: x*y,l1)\n",
    "    return product"
   ]
  },
  {
   "cell_type": "code",
   "execution_count": 10,
   "id": "8dfde4c0-4425-4631-8531-675c1c921196",
   "metadata": {},
   "outputs": [
    {
     "data": {
      "text/plain": [
       "4134711838987085478833841242112000"
      ]
     },
     "execution_count": 10,
     "metadata": {},
     "output_type": "execute_result"
    }
   ],
   "source": [
    "product_of_number(list1,l1)"
   ]
  },
  {
   "cell_type": "code",
   "execution_count": 11,
   "id": "f819a84c-5ed3-4a11-82e8-95aebe15495e",
   "metadata": {},
   "outputs": [
    {
     "data": {
      "text/plain": [
       "[1,\n",
       " 2,\n",
       " 3,\n",
       " 4,\n",
       " 44,\n",
       " 55,\n",
       " 66,\n",
       " 34,\n",
       " 56,\n",
       " 78,\n",
       " 89,\n",
       " 34,\n",
       " 1,\n",
       " 2,\n",
       " 3,\n",
       " 1,\n",
       " 34,\n",
       " 55,\n",
       " 67,\n",
       " 78,\n",
       " 89,\n",
       " 4,\n",
       " 45,\n",
       " 22,\n",
       " 61,\n",
       " 34,\n",
       " 56]"
      ]
     },
     "execution_count": 11,
     "metadata": {},
     "output_type": "execute_result"
    }
   ],
   "source": [
    "l1"
   ]
  },
  {
   "cell_type": "code",
   "execution_count": 12,
   "id": "b37f8f9c-f4df-4479-a40b-c91d053ea54e",
   "metadata": {},
   "outputs": [
    {
     "data": {
      "text/plain": [
       "'Q2. Write a python program for encrypting a message sent to you by your friend. The logic of encryption should be such that, for a the output should be z. For b, the output should be y. For c, the output should be x respectively. Also, the whitespace should be replaced with a dollar sign. Keep the punctuation marks unchanged.   \\nInput Sentence: I want to become a Data Scientist.\\n'"
      ]
     },
     "execution_count": 12,
     "metadata": {},
     "output_type": "execute_result"
    }
   ],
   "source": [
    "'''Q2. Write a python program for encrypting a message sent to you by your friend. The logic of encryption should be such that, for a the output should be z. For b, the output should be y. For c, the output should be x respectively. Also, the whitespace should be replaced with a dollar sign. Keep the punctuation marks unchanged.   \n",
    "Input Sentence: I want to become a Data Scientist.\n",
    "'''"
   ]
  },
  {
   "cell_type": "code",
   "execution_count": 13,
   "id": "103c29b0-0462-40a3-be3a-4509cf6e67b2",
   "metadata": {},
   "outputs": [],
   "source": [
    "s = 'I want to become a Data Scientist'"
   ]
  },
  {
   "cell_type": "code",
   "execution_count": 14,
   "id": "5ecdbcdc-3cf2-4d6b-9fe1-36e7181b4a13",
   "metadata": {},
   "outputs": [],
   "source": [
    "s1 = s.replace('a','z').replace('b','y').replace('c','x').replace(' ','$')"
   ]
  },
  {
   "cell_type": "code",
   "execution_count": 15,
   "id": "a46a09b5-3a1d-4583-bf73-b2150aa70ae6",
   "metadata": {},
   "outputs": [
    {
     "data": {
      "text/plain": [
       "'I$wznt$to$yexome$z$Dztz$Sxientist'"
      ]
     },
     "execution_count": 15,
     "metadata": {},
     "output_type": "execute_result"
    }
   ],
   "source": [
    "s1"
   ]
  },
  {
   "cell_type": "code",
   "execution_count": null,
   "id": "4985f2fd-1c9f-44cd-9d70-6ccbf559f8d1",
   "metadata": {},
   "outputs": [],
   "source": []
  }
 ],
 "metadata": {
  "kernelspec": {
   "display_name": "Python 3 (ipykernel)",
   "language": "python",
   "name": "python3"
  },
  "language_info": {
   "codemirror_mode": {
    "name": "ipython",
    "version": 3
   },
   "file_extension": ".py",
   "mimetype": "text/x-python",
   "name": "python",
   "nbconvert_exporter": "python",
   "pygments_lexer": "ipython3",
   "version": "3.10.8"
  }
 },
 "nbformat": 4,
 "nbformat_minor": 5
}
