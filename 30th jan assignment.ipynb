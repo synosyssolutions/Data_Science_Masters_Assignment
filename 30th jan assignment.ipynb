{
 "cells": [
  {
   "cell_type": "code",
   "execution_count": 2,
   "id": "4962ee6b-4fed-4b33-8d2b-077f69cef0b0",
   "metadata": {},
   "outputs": [],
   "source": [
    "# program to accept percentage from user and display grades accordingly"
   ]
  },
  {
   "cell_type": "code",
   "execution_count": 3,
   "id": "524b233a-72fa-4cdf-be67-890fc487491c",
   "metadata": {},
   "outputs": [
    {
     "name": "stdin",
     "output_type": "stream",
     "text": [
      "enter your percentage 85\n"
     ]
    },
    {
     "name": "stdout",
     "output_type": "stream",
     "text": [
      "B\n"
     ]
    }
   ],
   "source": [
    "percentage = int(input('enter your percentage'))\n",
    "\n",
    "if percentage > 90:\n",
    "    print('A')\n",
    "elif percentage > 80 and percentage <= 90:\n",
    "    print('B')\n",
    "elif percentage >= 60 and percentage <= 80:\n",
    "    print('C')\n",
    "else:\n",
    "    print('D')"
   ]
  },
  {
   "cell_type": "code",
   "execution_count": 4,
   "id": "cfb64463-23cb-42c2-9012-98aa9d305f98",
   "metadata": {},
   "outputs": [],
   "source": [
    "# program to take input cost price of bike and display tax"
   ]
  },
  {
   "cell_type": "code",
   "execution_count": 5,
   "id": "b7e76292-66d4-4bd4-8d6e-b5a900b7a6bd",
   "metadata": {},
   "outputs": [
    {
     "name": "stdin",
     "output_type": "stream",
     "text": [
      "enter price of bike 150000\n"
     ]
    },
    {
     "name": "stdout",
     "output_type": "stream",
     "text": [
      "Tax to be paid :  22500.0\n"
     ]
    }
   ],
   "source": [
    "bike_cost = int(input('enter price of bike'))\n",
    "\n",
    "if bike_cost > 100000:\n",
    "    print('Tax to be paid : ', (bike_cost * 15) / 100)\n",
    "elif bike_cost > 50000 and bike_cost <= 100000:\n",
    "    print('Tax to be paid : ', (bike_cost * 10) / 100)\n",
    "else:\n",
    "    print('Tax to be paid : ', (bike_cost * 5) / 100)"
   ]
  },
  {
   "cell_type": "code",
   "execution_count": 6,
   "id": "f2418673-5d84-4791-86ed-558a44b2deff",
   "metadata": {},
   "outputs": [],
   "source": [
    "# accept city from user and display monument from that city"
   ]
  },
  {
   "cell_type": "code",
   "execution_count": null,
   "id": "251ffb89-02fd-4677-a57d-e0667eed8c36",
   "metadata": {},
   "outputs": [],
   "source": [
    "city = input('enter any city from Delhi, Agra, Jaipur : ')\n",
    "city_dict = {'delhi':'Red Fort','agra':'Taj Mahal','jaipur':'Jal Mahal'}\n",
    "print(city_dict[city.lower()])\n"
   ]
  },
  {
   "cell_type": "code",
   "execution_count": 1,
   "id": "8f41326a-b37f-472f-a615-889919279ec9",
   "metadata": {},
   "outputs": [
    {
     "name": "stdin",
     "output_type": "stream",
     "text": [
      "enter any city from Delhi, Agra, Jaipur :  delhi\n"
     ]
    },
    {
     "name": "stdout",
     "output_type": "stream",
     "text": [
      "Red Fort\n"
     ]
    }
   ],
   "source": [
    "city = input('enter any city from Delhi, Agra, Jaipur : ')\n",
    "city_dict = {'delhi':'Red Fort','agra':'Taj Mahal','jaipur':'Jal Mahal'}\n",
    "print(city_dict[city.lower()])\n"
   ]
  },
  {
   "cell_type": "code",
   "execution_count": 2,
   "id": "6ca8b12f-44b5-482c-9809-71da96a8b15f",
   "metadata": {},
   "outputs": [],
   "source": [
    "# check how many time a given number can be divided by 3 before it is less than or equal to 10"
   ]
  },
  {
   "cell_type": "code",
   "execution_count": 1,
   "id": "16cfd8be-0af7-4155-a096-14f64a45eb33",
   "metadata": {},
   "outputs": [
    {
     "name": "stdin",
     "output_type": "stream",
     "text": [
      "enter the number 31\n"
     ]
    },
    {
     "name": "stdout",
     "output_type": "stream",
     "text": [
      "2\n"
     ]
    }
   ],
   "source": [
    "number = int(input('enter the number'))\n",
    "count = 0\n",
    "while number > 10:\n",
    "    number = number / 3\n",
    "    count = count + 1\n",
    "print(count)        \n",
    "       \n",
    "    "
   ]
  },
  {
   "cell_type": "code",
   "execution_count": 2,
   "id": "3c7f5dea-76ca-41d1-b859-de6b4b024bf3",
   "metadata": {},
   "outputs": [],
   "source": [
    "# Why and When to Use while Loop in Python give a detailed description with example \n"
   ]
  },
  {
   "cell_type": "code",
   "execution_count": 3,
   "id": "9872407a-650d-407b-bfe0-e05235e4ff61",
   "metadata": {},
   "outputs": [
    {
     "data": {
      "text/plain": [
       "'while loop is used when we want to run the loop until the condition is true and we are not sure about the number of iterations'"
      ]
     },
     "execution_count": 3,
     "metadata": {},
     "output_type": "execute_result"
    }
   ],
   "source": [
    "'''while loop is used when we want to run the loop until the condition is true and we are not sure about the number of iterations'''"
   ]
  },
  {
   "cell_type": "code",
   "execution_count": 4,
   "id": "f6a0f721-6bbc-4556-a696-2c8260db5768",
   "metadata": {},
   "outputs": [
    {
     "name": "stdout",
     "output_type": "stream",
     "text": [
      "1\n"
     ]
    }
   ],
   "source": [
    "# get how many time a number can be divided by 10\n",
    "number = 100\n",
    "count = 0\n",
    "while number > 10:\n",
    "    number = number / 10\n",
    "    count = count + 1\n",
    "print(count)    "
   ]
  },
  {
   "cell_type": "code",
   "execution_count": 5,
   "id": "243c6401-e68d-45fb-8a52-ed8474a1e720",
   "metadata": {},
   "outputs": [],
   "source": [
    "# Use nested while loop to print 3 different pattern. \n"
   ]
  },
  {
   "cell_type": "code",
   "execution_count": 1,
   "id": "712d5ab1-d97c-474d-a799-b156f0f59a45",
   "metadata": {},
   "outputs": [
    {
     "name": "stdout",
     "output_type": "stream",
     "text": [
      "* \n",
      "* * \n",
      "* * * \n",
      "* * * * \n",
      "* * * * * \n"
     ]
    }
   ],
   "source": [
    "count = 1;\n",
    "while count <= 5:\n",
    "    print('* ' * count)\n",
    "    count = count + 1"
   ]
  },
  {
   "cell_type": "code",
   "execution_count": 4,
   "id": "796447a7-be54-49d9-b394-aeb1694d98e6",
   "metadata": {},
   "outputs": [
    {
     "name": "stdout",
     "output_type": "stream",
     "text": [
      "     *\n",
      "    ***\n",
      "   *****\n",
      "  *******\n",
      " *********\n"
     ]
    }
   ],
   "source": [
    "rows = 5;\n",
    "space = rows - 1\n",
    "count = 1\n",
    "while rows > 0:\n",
    "    print(' ' * space,'*' * count)\n",
    "    count = count + 2\n",
    "    space = space - 1\n",
    "    rows = rows - 1"
   ]
  },
  {
   "cell_type": "code",
   "execution_count": 8,
   "id": "6bff2e19-a9ac-45bd-b32a-57287cd4d680",
   "metadata": {},
   "outputs": [
    {
     "name": "stdout",
     "output_type": "stream",
     "text": [
      "     *\n",
      "    **\n",
      "   ***\n",
      "  ****\n",
      " *****\n"
     ]
    }
   ],
   "source": [
    "count = 1\n",
    "rows = 5\n",
    "while rows > 0:\n",
    "    print(' ' * (rows-1),'*'* count)\n",
    "    count = count + 1\n",
    "    rows = rows - 1"
   ]
  },
  {
   "cell_type": "code",
   "execution_count": 9,
   "id": "afe08ce7-12bf-4089-8461-28ed6bf8b76c",
   "metadata": {},
   "outputs": [],
   "source": [
    "#Reverse a while loop to display numbers from 10 to 1. "
   ]
  },
  {
   "cell_type": "code",
   "execution_count": 10,
   "id": "7462f70b-c8d3-47b9-96c9-e58be4fb8c1b",
   "metadata": {},
   "outputs": [
    {
     "name": "stdout",
     "output_type": "stream",
     "text": [
      "10\n",
      "9\n",
      "8\n",
      "7\n",
      "6\n",
      "5\n",
      "4\n",
      "3\n",
      "2\n",
      "1\n"
     ]
    }
   ],
   "source": [
    "number = 10\n",
    "while number > 0:\n",
    "    print(number)\n",
    "    number = number -1"
   ]
  },
  {
   "cell_type": "code",
   "execution_count": null,
   "id": "417dbc35-f746-4e34-b754-8bc24907c964",
   "metadata": {},
   "outputs": [],
   "source": []
  }
 ],
 "metadata": {
  "kernelspec": {
   "display_name": "Python 3 (ipykernel)",
   "language": "python",
   "name": "python3"
  },
  "language_info": {
   "codemirror_mode": {
    "name": "ipython",
    "version": 3
   },
   "file_extension": ".py",
   "mimetype": "text/x-python",
   "name": "python",
   "nbconvert_exporter": "python",
   "pygments_lexer": "ipython3",
   "version": "3.10.8"
  }
 },
 "nbformat": 4,
 "nbformat_minor": 5
}
