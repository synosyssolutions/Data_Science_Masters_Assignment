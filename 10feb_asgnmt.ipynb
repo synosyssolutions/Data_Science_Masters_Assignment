{
 "cells": [
  {
   "cell_type": "code",
   "execution_count": 1,
   "id": "3680206c-3bd5-4ebb-a6e4-fffefb08d272",
   "metadata": {},
   "outputs": [
    {
     "data": {
      "text/plain": [
       "'Q1. Which function is used to open a file? What are the different modes of opening a file? Explain each mode\\nof file opening.'"
      ]
     },
     "execution_count": 1,
     "metadata": {},
     "output_type": "execute_result"
    }
   ],
   "source": [
    "'''Q1. Which function is used to open a file? What are the different modes of opening a file? Explain each mode\n",
    "of file opening.'''"
   ]
  },
  {
   "cell_type": "code",
   "execution_count": 2,
   "id": "331d7d15-cae7-4044-9284-eb98a1701337",
   "metadata": {},
   "outputs": [
    {
     "data": {
      "text/plain": [
       "'different modes of opening a file are as follows : '"
      ]
     },
     "execution_count": 2,
     "metadata": {},
     "output_type": "execute_result"
    }
   ],
   "source": [
    "# Opening a file\n",
    "\n",
    "#file handler = open('file_name','open_mode','buffering')\n",
    "'''different modes of opening a file are as follows : '''"
   ]
  },
  {
   "cell_type": "code",
   "execution_count": 3,
   "id": "67acb43d-1de1-4fa7-a51c-9c7b2f344dbb",
   "metadata": {},
   "outputs": [
    {
     "data": {
      "text/plain": [
       "'w : write data in file, if any previous data is there it will delete and add new data'"
      ]
     },
     "execution_count": 3,
     "metadata": {},
     "output_type": "execute_result"
    }
   ],
   "source": [
    "'''w : write data in file, if any previous data is there it will delete and add new data'''"
   ]
  },
  {
   "cell_type": "code",
   "execution_count": 4,
   "id": "e1a189f3-4dfb-406d-9437-b8934bf0eaf5",
   "metadata": {},
   "outputs": [
    {
     "data": {
      "text/plain": [
       "'r : read data from file, file pointer is positioned at begining'"
      ]
     },
     "execution_count": 4,
     "metadata": {},
     "output_type": "execute_result"
    }
   ],
   "source": [
    "'''r : read data from file, file pointer is positioned at begining'''"
   ]
  },
  {
   "cell_type": "code",
   "execution_count": 5,
   "id": "7e6540f8-1426-4d5c-a424-7dc910879b5e",
   "metadata": {},
   "outputs": [
    {
     "data": {
      "text/plain": [
       "\"a : append data to the file. I f file doesn't exists it will create it\""
      ]
     },
     "execution_count": 5,
     "metadata": {},
     "output_type": "execute_result"
    }
   ],
   "source": [
    "'''a : append data to the file. I f file doesn't exists it will create it'''"
   ]
  },
  {
   "cell_type": "code",
   "execution_count": 6,
   "id": "199c33e6-0b04-45e1-823d-67b1510915fc",
   "metadata": {},
   "outputs": [
    {
     "data": {
      "text/plain": [
       "'w+ : to write and read data from the file. Previous data will be deleted'"
      ]
     },
     "execution_count": 6,
     "metadata": {},
     "output_type": "execute_result"
    }
   ],
   "source": [
    "'''w+ : to write and read data from the file. Previous data will be deleted'''"
   ]
  },
  {
   "cell_type": "code",
   "execution_count": 7,
   "id": "41367bc2-b5d6-401c-aaba-36724f2183c4",
   "metadata": {},
   "outputs": [
    {
     "data": {
      "text/plain": [
       "\"r+ : to read and write data into file. Previous data won't be deleted. File pointer is placed at begining of file\""
      ]
     },
     "execution_count": 7,
     "metadata": {},
     "output_type": "execute_result"
    }
   ],
   "source": [
    "'''r+ : to read and write data into file. Previous data won't be deleted. File pointer is placed at begining of file'''"
   ]
  },
  {
   "cell_type": "code",
   "execution_count": 8,
   "id": "0c2ca9e3-596d-4771-9219-7ec2e1f02949",
   "metadata": {},
   "outputs": [
    {
     "data": {
      "text/plain": [
       "\"a+ : append and read the file. File pointer will be at the end, if file doesn't exists it will create it\""
      ]
     },
     "execution_count": 8,
     "metadata": {},
     "output_type": "execute_result"
    }
   ],
   "source": [
    "'''a+ : append and read the file. File pointer will be at the end, if file doesn't exists it will create it'''"
   ]
  },
  {
   "cell_type": "code",
   "execution_count": 9,
   "id": "de59ff9d-801c-4f33-aee9-02edb2da7251",
   "metadata": {},
   "outputs": [
    {
     "data": {
      "text/plain": [
       "'x : to open the file in exclusive mode, file creation fails if file already exists'"
      ]
     },
     "execution_count": 9,
     "metadata": {},
     "output_type": "execute_result"
    }
   ],
   "source": [
    "'''x : to open the file in exclusive mode, file creation fails if file already exists'''"
   ]
  },
  {
   "cell_type": "code",
   "execution_count": 10,
   "id": "2897a134-2b65-474c-af45-7fba732f9112",
   "metadata": {},
   "outputs": [
    {
     "data": {
      "text/plain": [
       "'Q2. Why close() function is used? Why is it important to close a file?'"
      ]
     },
     "execution_count": 10,
     "metadata": {},
     "output_type": "execute_result"
    }
   ],
   "source": [
    "'''Q2. Why close() function is used? Why is it important to close a file?'''"
   ]
  },
  {
   "cell_type": "code",
   "execution_count": 11,
   "id": "2028cbd7-5533-4a67-9a54-dc2913ca9693",
   "metadata": {},
   "outputs": [
    {
     "data": {
      "text/plain": [
       "'close() is used to close the file, it is important to close the file because if left opened it may corrupt the data in the file and also the memory utilized by the file is not freed leading to insufficient memory problem'"
      ]
     },
     "execution_count": 11,
     "metadata": {},
     "output_type": "execute_result"
    }
   ],
   "source": [
    "'''close() is used to close the file, it is important to close the file because if left opened it may corrupt the data in the file and also the memory utilized by the file is not freed leading to insufficient memory problem'''"
   ]
  },
  {
   "cell_type": "code",
   "execution_count": 12,
   "id": "a6791633-4afc-4704-8017-5e6fa786cfd9",
   "metadata": {},
   "outputs": [
    {
     "data": {
      "text/plain": [
       "'Q3. Write a python program to create a text file. Write ‘I want to become a Data Scientist’ in that file. Then\\nclose the file. Open this file and read the content of the file.'"
      ]
     },
     "execution_count": 12,
     "metadata": {},
     "output_type": "execute_result"
    }
   ],
   "source": [
    "'''Q3. Write a python program to create a text file. Write ‘I want to become a Data Scientist’ in that file. Then\n",
    "close the file. Open this file and read the content of the file.'''"
   ]
  },
  {
   "cell_type": "code",
   "execution_count": 13,
   "id": "5575991b-21d9-4b1f-b3d7-3351e3b78be9",
   "metadata": {},
   "outputs": [
    {
     "name": "stdout",
     "output_type": "stream",
     "text": [
      "I want to become a Data Scientist\n"
     ]
    }
   ],
   "source": [
    "f = open('test.txt','a+')\n",
    "f.write('I want to become a Data Scientist')\n",
    "f.seek(0,0)\n",
    "print(f.read())"
   ]
  },
  {
   "cell_type": "code",
   "execution_count": 14,
   "id": "2c005f5f-d199-40eb-a38a-b34e2fc9e840",
   "metadata": {},
   "outputs": [
    {
     "data": {
      "text/plain": [
       "'Q4. Explain the following with python code: read(), readline() and readlines().'"
      ]
     },
     "execution_count": 14,
     "metadata": {},
     "output_type": "execute_result"
    }
   ],
   "source": [
    "'''Q4. Explain the following with python code: read(), readline() and readlines().'''"
   ]
  },
  {
   "cell_type": "code",
   "execution_count": 15,
   "id": "3859ad76-315f-41dd-b3db-801f181378a7",
   "metadata": {},
   "outputs": [
    {
     "data": {
      "text/plain": [
       "'read() ==> reads all the line and displays them line by line as they were in the tet file'"
      ]
     },
     "execution_count": 15,
     "metadata": {},
     "output_type": "execute_result"
    }
   ],
   "source": [
    "'''read() ==> reads all the line and displays them line by line as they were in the tet file'''"
   ]
  },
  {
   "cell_type": "code",
   "execution_count": 18,
   "id": "4de07d18-a3d4-41f5-8858-03dc1bf9bd1a",
   "metadata": {},
   "outputs": [
    {
     "data": {
      "text/plain": [
       "'readlines() ==> displays all the strings as element in list \\n   read().splitlines() ==> is equivalent to readlines()'"
      ]
     },
     "execution_count": 18,
     "metadata": {},
     "output_type": "execute_result"
    }
   ],
   "source": [
    "'''readlines() ==> displays all the strings as element in list \n",
    "   read().splitlines() ==> is equivalent to readlines()'''"
   ]
  },
  {
   "cell_type": "code",
   "execution_count": 19,
   "id": "f5a8c212-6f00-44bd-ac43-33f758af7e3c",
   "metadata": {},
   "outputs": [
    {
     "data": {
      "text/plain": [
       "'readline() ==> reads one line at a time'"
      ]
     },
     "execution_count": 19,
     "metadata": {},
     "output_type": "execute_result"
    }
   ],
   "source": [
    "'''readline() ==> reads one line at a time'''"
   ]
  },
  {
   "cell_type": "code",
   "execution_count": 20,
   "id": "aed55ba8-889f-418d-b720-607aa53bc9a0",
   "metadata": {},
   "outputs": [
    {
     "data": {
      "text/plain": [
       "'Q5. Explain why with statement is used with open(). What is the advantage of using with statement and\\nopen() together?'"
      ]
     },
     "execution_count": 20,
     "metadata": {},
     "output_type": "execute_result"
    }
   ],
   "source": [
    "'''Q5. Explain why with statement is used with open(). What is the advantage of using with statement and\n",
    "open() together?'''"
   ]
  },
  {
   "cell_type": "code",
   "execution_count": 21,
   "id": "7f6b72c0-1782-4495-8942-1f5e2a474f6c",
   "metadata": {},
   "outputs": [
    {
     "data": {
      "text/plain": [
       "\"with statement takes care of closing a file which is opened by it ==> we don't need to close it explicitly ==> in case of an exception also it will close the file\""
      ]
     },
     "execution_count": 21,
     "metadata": {},
     "output_type": "execute_result"
    }
   ],
   "source": [
    "'''with statement takes care of closing a file which is opened by it ==> we don't need to close it explicitly ==> in case of an exception also it will close the file'''"
   ]
  },
  {
   "cell_type": "code",
   "execution_count": 22,
   "id": "2c36427b-2883-4403-85c9-ff9c6fc41e32",
   "metadata": {},
   "outputs": [
    {
     "data": {
      "text/plain": [
       "'Q6. Explain the write() and writelines() functions. Give a suitable example.'"
      ]
     },
     "execution_count": 22,
     "metadata": {},
     "output_type": "execute_result"
    }
   ],
   "source": [
    "'''Q6. Explain the write() and writelines() functions. Give a suitable example.'''"
   ]
  },
  {
   "cell_type": "code",
   "execution_count": 27,
   "id": "d3f98419-046b-4b7e-8e60-1b92c104ac93",
   "metadata": {},
   "outputs": [
    {
     "data": {
      "text/plain": [
       "'Write ( ): In this function, we must pass a single argument, the string we want to insert into the file'"
      ]
     },
     "execution_count": 27,
     "metadata": {},
     "output_type": "execute_result"
    }
   ],
   "source": [
    "'''Write ( ): In this function, we must pass a single argument, the string we want to insert into the file'''\n"
   ]
  },
  {
   "cell_type": "code",
   "execution_count": 24,
   "id": "1c59dcde-c11d-4b53-b0d7-d57a8845c744",
   "metadata": {},
   "outputs": [
    {
     "data": {
      "text/plain": [
       "'Writelines ( ): In this function, we must pass an array or a list consisting of multiple strings. It is used to insert multiple various strings into the file at a single time.'"
      ]
     },
     "execution_count": 24,
     "metadata": {},
     "output_type": "execute_result"
    }
   ],
   "source": [
    "'''Writelines ( ): In this function, we must pass an array or a list consisting of multiple strings. It is used to insert multiple various strings into the file at a single time.'''"
   ]
  },
  {
   "cell_type": "code",
   "execution_count": 29,
   "id": "347c7aad-6bb3-4d03-8f9a-04d821349614",
   "metadata": {},
   "outputs": [],
   "source": [
    "# example for write()\n",
    "#---------------------------\n",
    "#File1 = open ( \" hello.txt \" , \" w \" )\n",
    "#File1.write ( str )\n",
    "\n",
    "# example for writelines()\n",
    "#---------------------------\n",
    "#File1 = open ( \" hello.txt \" , \" w \" )\n",
    "#File1.writelines( S ) for S = [ str1 , str2 , str3 ]"
   ]
  },
  {
   "cell_type": "code",
   "execution_count": null,
   "id": "bc6197ea-619e-4a0e-923d-a7eee1a5d4e0",
   "metadata": {},
   "outputs": [],
   "source": []
  }
 ],
 "metadata": {
  "kernelspec": {
   "display_name": "Python 3 (ipykernel)",
   "language": "python",
   "name": "python3"
  },
  "language_info": {
   "codemirror_mode": {
    "name": "ipython",
    "version": 3
   },
   "file_extension": ".py",
   "mimetype": "text/x-python",
   "name": "python",
   "nbconvert_exporter": "python",
   "pygments_lexer": "ipython3",
   "version": "3.10.8"
  }
 },
 "nbformat": 4,
 "nbformat_minor": 5
}
