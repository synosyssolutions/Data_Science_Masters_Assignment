{
 "cells": [
  {
   "cell_type": "code",
   "execution_count": 1,
   "id": "da5ca4ca-e14f-4066-9e54-b728233a78d7",
   "metadata": {},
   "outputs": [],
   "source": [
    "# 1.Who developed python programming language"
   ]
  },
  {
   "cell_type": "code",
   "execution_count": 2,
   "id": "60580fa3-efbb-4171-bdb2-cb74a8f58429",
   "metadata": {},
   "outputs": [
    {
     "data": {
      "text/plain": [
       "'Guido van Rossum'"
      ]
     },
     "execution_count": 2,
     "metadata": {},
     "output_type": "execute_result"
    }
   ],
   "source": [
    "'''Guido van Rossum'''"
   ]
  },
  {
   "cell_type": "code",
   "execution_count": 3,
   "id": "d0150476-a1eb-45b4-8eb0-17f10001aa1e",
   "metadata": {},
   "outputs": [],
   "source": [
    "# 2. Which type of programming does python supports??"
   ]
  },
  {
   "cell_type": "code",
   "execution_count": 4,
   "id": "a3c83881-936f-49c1-adb1-41997fd84b71",
   "metadata": {},
   "outputs": [
    {
     "data": {
      "text/plain": [
       "'Object Oriented Programming and Structured Programming'"
      ]
     },
     "execution_count": 4,
     "metadata": {},
     "output_type": "execute_result"
    }
   ],
   "source": [
    "'''Object Oriented Programming and Structured Programming'''"
   ]
  },
  {
   "cell_type": "code",
   "execution_count": 5,
   "id": "47f57e23-df1f-4bae-aaf2-a218935e7349",
   "metadata": {},
   "outputs": [],
   "source": [
    "# 3.Is python case-sensitive dealing with identifiers ?"
   ]
  },
  {
   "cell_type": "code",
   "execution_count": 6,
   "id": "01c9f6c2-a21d-4d8c-b83d-5e8cfe0b5f59",
   "metadata": {},
   "outputs": [
    {
     "data": {
      "text/plain": [
       "'Yes'"
      ]
     },
     "execution_count": 6,
     "metadata": {},
     "output_type": "execute_result"
    }
   ],
   "source": [
    "'''Yes'''\n"
   ]
  },
  {
   "cell_type": "code",
   "execution_count": 7,
   "id": "ea605082-b00a-4a30-a3f0-0959eff63917",
   "metadata": {},
   "outputs": [],
   "source": [
    "a = 10\n"
   ]
  },
  {
   "cell_type": "code",
   "execution_count": 8,
   "id": "617f30e5-383e-4616-8403-cd2791babf4d",
   "metadata": {},
   "outputs": [],
   "source": [
    "A = 20"
   ]
  },
  {
   "cell_type": "code",
   "execution_count": 9,
   "id": "bc19ab7b-6f3b-416f-9f6a-363f474502bc",
   "metadata": {},
   "outputs": [
    {
     "data": {
      "text/plain": [
       "10"
      ]
     },
     "execution_count": 9,
     "metadata": {},
     "output_type": "execute_result"
    }
   ],
   "source": [
    "a"
   ]
  },
  {
   "cell_type": "code",
   "execution_count": 10,
   "id": "a98f4c74-57d9-4fcf-9855-42ab0ada847d",
   "metadata": {},
   "outputs": [
    {
     "data": {
      "text/plain": [
       "20"
      ]
     },
     "execution_count": 10,
     "metadata": {},
     "output_type": "execute_result"
    }
   ],
   "source": [
    "A"
   ]
  },
  {
   "cell_type": "code",
   "execution_count": 11,
   "id": "eaccd0d9-9098-4c21-98de-efd759c6e008",
   "metadata": {},
   "outputs": [],
   "source": [
    "# 4.What is the correct extension of python file ??\n"
   ]
  },
  {
   "cell_type": "code",
   "execution_count": 12,
   "id": "91098f95-9962-4d14-8349-8c188f2aa04a",
   "metadata": {},
   "outputs": [
    {
     "data": {
      "text/plain": [
       "' .py '"
      ]
     },
     "execution_count": 12,
     "metadata": {},
     "output_type": "execute_result"
    }
   ],
   "source": [
    "''' .py '''"
   ]
  },
  {
   "cell_type": "code",
   "execution_count": 13,
   "id": "53f08971-7ff5-432f-9689-e3d51d31a5b4",
   "metadata": {},
   "outputs": [],
   "source": [
    "# 5.Is python code compiled or interpreted ??"
   ]
  },
  {
   "cell_type": "code",
   "execution_count": 14,
   "id": "8f434cc0-01fb-4a48-9682-d455881738db",
   "metadata": {},
   "outputs": [
    {
     "data": {
      "text/plain": [
       "'interpreted ==> source code of python is converted to byte code'"
      ]
     },
     "execution_count": 14,
     "metadata": {},
     "output_type": "execute_result"
    }
   ],
   "source": [
    "'''interpreted ==> source code of python is converted to byte code'''"
   ]
  },
  {
   "cell_type": "code",
   "execution_count": 15,
   "id": "0ead417f-3870-4540-bf76-cd52adfaf31f",
   "metadata": {},
   "outputs": [],
   "source": [
    " # 6.Name a few blocks of code used to define python language??"
   ]
  },
  {
   "cell_type": "code",
   "execution_count": 16,
   "id": "cfbdcd5a-85b6-4573-97d7-891fb1b28d62",
   "metadata": {},
   "outputs": [
    {
     "data": {
      "text/plain": [
       "'a module, a function body, and a class definition'"
      ]
     },
     "execution_count": 16,
     "metadata": {},
     "output_type": "execute_result"
    }
   ],
   "source": [
    "'''a module, a function body, and a class definition'''"
   ]
  },
  {
   "cell_type": "code",
   "execution_count": 17,
   "id": "209c5df0-5265-4b70-b7de-ed7dd0211ba6",
   "metadata": {},
   "outputs": [],
   "source": [
    "# 7.State a character used to give single line comment in python ??"
   ]
  },
  {
   "cell_type": "code",
   "execution_count": 18,
   "id": "a5a8b842-2e3c-4c63-89a3-de13b9b8b4d0",
   "metadata": {},
   "outputs": [
    {
     "data": {
      "text/plain": [
       "'#'"
      ]
     },
     "execution_count": 18,
     "metadata": {},
     "output_type": "execute_result"
    }
   ],
   "source": [
    "'''#'''"
   ]
  },
  {
   "cell_type": "code",
   "execution_count": 19,
   "id": "e9105f7e-485b-498f-82a5-77ed1cb781ec",
   "metadata": {},
   "outputs": [],
   "source": [
    "# 8. Function used to find version of python currently used on system ??"
   ]
  },
  {
   "cell_type": "code",
   "execution_count": 22,
   "id": "cd6d1bff-5211-4087-8cd8-63df50a8e8b7",
   "metadata": {},
   "outputs": [
    {
     "name": "stdout",
     "output_type": "stream",
     "text": [
      "3.10.8\n"
     ]
    }
   ],
   "source": [
    "from platform import python_version\n",
    "print(python_version())"
   ]
  },
  {
   "cell_type": "code",
   "execution_count": 23,
   "id": "36d18ea0-b500-4423-b43c-3f32d77223b1",
   "metadata": {},
   "outputs": [],
   "source": [
    "# 9.python supports creation of anonymous function at runtime using a constructor called ??"
   ]
  },
  {
   "cell_type": "code",
   "execution_count": 24,
   "id": "3143536b-574d-4132-ac09-88a315a0246f",
   "metadata": {},
   "outputs": [
    {
     "name": "stdout",
     "output_type": "stream",
     "text": [
      "25\n"
     ]
    }
   ],
   "source": [
    "'''lambda'''\n",
    "\n",
    "l = lambda x:x**2\n",
    "print(l(5))"
   ]
  },
  {
   "cell_type": "code",
   "execution_count": 25,
   "id": "07eea621-3be5-4556-8307-447ca825ca0d",
   "metadata": {},
   "outputs": [],
   "source": [
    "# 10. What does pip stands for ??"
   ]
  },
  {
   "cell_type": "code",
   "execution_count": 26,
   "id": "2631cfb0-8ba4-48db-a69f-3478f2aa858f",
   "metadata": {},
   "outputs": [
    {
     "data": {
      "text/plain": [
       "'Preferred Installer Program'"
      ]
     },
     "execution_count": 26,
     "metadata": {},
     "output_type": "execute_result"
    }
   ],
   "source": [
    "'''Preferred Installer Program'''"
   ]
  },
  {
   "cell_type": "code",
   "execution_count": 27,
   "id": "fe43f3ef-d424-4998-b437-227ad9b5bac6",
   "metadata": {},
   "outputs": [],
   "source": [
    "# 11. Few built-in functions in python"
   ]
  },
  {
   "cell_type": "code",
   "execution_count": 28,
   "id": "2d52b100-b371-4f5a-b937-10d487499cd6",
   "metadata": {},
   "outputs": [
    {
     "data": {
      "text/plain": [
       "'.uppper(),.lower(),iter(),next(),abs(),floor().....'"
      ]
     },
     "execution_count": 28,
     "metadata": {},
     "output_type": "execute_result"
    }
   ],
   "source": [
    "'''.uppper(),.lower(),iter(),next(),abs(),floor().....'''"
   ]
  },
  {
   "cell_type": "code",
   "execution_count": 29,
   "id": "ff0d48e2-6c96-4128-86f2-6749050a5e92",
   "metadata": {},
   "outputs": [],
   "source": [
    "# 12. Maximum possible length of identifier in python ??"
   ]
  },
  {
   "cell_type": "code",
   "execution_count": 30,
   "id": "b3adfebb-f3b7-47d5-9598-5db224b34a5b",
   "metadata": {},
   "outputs": [
    {
     "data": {
      "text/plain": [
       "'79 characters '"
      ]
     },
     "execution_count": 30,
     "metadata": {},
     "output_type": "execute_result"
    }
   ],
   "source": [
    "'''79 characters '''"
   ]
  },
  {
   "cell_type": "code",
   "execution_count": 31,
   "id": "4c862e26-a148-4760-aff5-c645bee5ed0b",
   "metadata": {},
   "outputs": [],
   "source": [
    "# 13. benefits of using python"
   ]
  },
  {
   "cell_type": "code",
   "execution_count": 1,
   "id": "4c6e52e5-d8c6-4362-8b39-b04f4e260f75",
   "metadata": {},
   "outputs": [
    {
     "data": {
      "text/plain": [
       "'\\nHigh-level language,\\nDynamically typed language,\\nInterpreted language,\\nObject-riented and Procedural programming language,\\nOpen source,\\nSupports third party libraries etc\\n'"
      ]
     },
     "execution_count": 1,
     "metadata": {},
     "output_type": "execute_result"
    }
   ],
   "source": [
    "'''\n",
    "High-level language,\n",
    "Dynamically typed language,\n",
    "Interpreted language,\n",
    "Object-riented and Procedural programming language,\n",
    "Open source,\n",
    "Supports third party libraries etc\n",
    "'''"
   ]
  },
  {
   "cell_type": "code",
   "execution_count": 2,
   "id": "d964c112-e6f6-40f4-85ab-b5a97b9427c7",
   "metadata": {},
   "outputs": [],
   "source": [
    "# 14.How memory is managed in python ??"
   ]
  },
  {
   "cell_type": "code",
   "execution_count": 3,
   "id": "29e0a172-3424-45c8-9b07-21d2b867ab17",
   "metadata": {},
   "outputs": [
    {
     "data": {
      "text/plain": [
       "'Garbage collector deletes object with no reference present in the heap and free up the memory'"
      ]
     },
     "execution_count": 3,
     "metadata": {},
     "output_type": "execute_result"
    }
   ],
   "source": [
    "'''Garbage collector deletes object with no reference present in the heap and free up the memory'''"
   ]
  },
  {
   "cell_type": "code",
   "execution_count": 4,
   "id": "a6754037-80ff-4afb-9972-2334e8005d22",
   "metadata": {},
   "outputs": [],
   "source": [
    "# 15.how to install python on windows and set path variable??"
   ]
  },
  {
   "cell_type": "code",
   "execution_count": 5,
   "id": "3da841cd-deb2-4ed8-873e-a3930039f8bc",
   "metadata": {},
   "outputs": [
    {
     "data": {
      "text/plain": [
       "\"Python exe file can be downloaded from it's official website and path can be set at the time of installing or we can set in the environment variable\""
      ]
     },
     "execution_count": 5,
     "metadata": {},
     "output_type": "execute_result"
    }
   ],
   "source": [
    "'''Python exe file can be downloaded from it's official website and path can be set at the time of installing or we can set in the environment variable'''"
   ]
  },
  {
   "cell_type": "code",
   "execution_count": 6,
   "id": "f6b142e2-f656-485e-a2b7-50f6d8ad3e87",
   "metadata": {},
   "outputs": [],
   "source": [
    "# 16.Is indentation required in python ??"
   ]
  },
  {
   "cell_type": "code",
   "execution_count": 7,
   "id": "8bdb88f6-4756-45b0-838e-a2c219a12fd6",
   "metadata": {},
   "outputs": [
    {
     "data": {
      "text/plain": [
       "'Indentation is mandatory in python to defin block of statements'"
      ]
     },
     "execution_count": 7,
     "metadata": {},
     "output_type": "execute_result"
    }
   ],
   "source": [
    "'''Indentation is mandatory in python to defin block of statements'''"
   ]
  },
  {
   "cell_type": "code",
   "execution_count": null,
   "id": "3f58aa31-06ec-4d4b-88d3-c02ec766de7d",
   "metadata": {},
   "outputs": [],
   "source": []
  }
 ],
 "metadata": {
  "kernelspec": {
   "display_name": "Python 3 (ipykernel)",
   "language": "python",
   "name": "python3"
  },
  "language_info": {
   "codemirror_mode": {
    "name": "ipython",
    "version": 3
   },
   "file_extension": ".py",
   "mimetype": "text/x-python",
   "name": "python",
   "nbconvert_exporter": "python",
   "pygments_lexer": "ipython3",
   "version": "3.10.8"
  }
 },
 "nbformat": 4,
 "nbformat_minor": 5
}
