{
 "cells": [
  {
   "cell_type": "code",
   "execution_count": 1,
   "id": "d22e0c8d-109b-40b0-9f06-3e9944ea73e0",
   "metadata": {},
   "outputs": [
    {
     "data": {
      "text/plain": [
       "'Q. What is Abstraction in OOps? Explain with an example.'"
      ]
     },
     "execution_count": 1,
     "metadata": {},
     "output_type": "execute_result"
    }
   ],
   "source": [
    "'''Q. What is Abstraction in OOps? Explain with an example.'''"
   ]
  },
  {
   "cell_type": "code",
   "execution_count": 2,
   "id": "92a21d5b-6e48-4bd6-b324-35c79324cc0b",
   "metadata": {},
   "outputs": [
    {
     "data": {
      "text/plain": [
       "'An abstraction is used to hide the irrelevant data/class in order to reduce the complexity. It also enhances the application efficiency.'"
      ]
     },
     "execution_count": 2,
     "metadata": {},
     "output_type": "execute_result"
    }
   ],
   "source": [
    "'''An abstraction is used to hide the irrelevant data/class in order to reduce the complexity. It also enhances the application efficiency.'''"
   ]
  },
  {
   "cell_type": "code",
   "execution_count": 3,
   "id": "493d123a-6d5f-48a5-b6a7-088fe4661893",
   "metadata": {},
   "outputs": [
    {
     "data": {
      "text/plain": [
       "'example of abstraction'"
      ]
     },
     "execution_count": 3,
     "metadata": {},
     "output_type": "execute_result"
    }
   ],
   "source": [
    "'''example of abstraction'''"
   ]
  },
  {
   "cell_type": "code",
   "execution_count": 5,
   "id": "7eb13ea6-36c8-4156-8a43-edec537be485",
   "metadata": {},
   "outputs": [],
   "source": [
    "from abc import abstractmethod\n",
    "\n",
    "class Car:\n",
    "    \n",
    "    @abstractmethod\n",
    "    def mileage(self):\n",
    "        pass"
   ]
  },
  {
   "cell_type": "code",
   "execution_count": 6,
   "id": "3834325a-b510-474e-87a5-dd535365c5e1",
   "metadata": {},
   "outputs": [],
   "source": [
    "class Maruti(Car):\n",
    "    def mileage(self):\n",
    "        print('Mileage is 30kmpl')"
   ]
  },
  {
   "cell_type": "code",
   "execution_count": 8,
   "id": "1f4cc5dd-c7cf-463c-9083-8da02cd58a45",
   "metadata": {},
   "outputs": [],
   "source": [
    "class Toyota(Car):\n",
    "    def mileage(self):\n",
    "        print('Mileage is 22kmpl')"
   ]
  },
  {
   "cell_type": "code",
   "execution_count": 9,
   "id": "843856e4-c7c5-43eb-9f2a-12da5930f855",
   "metadata": {},
   "outputs": [
    {
     "name": "stdout",
     "output_type": "stream",
     "text": [
      "Mileage is 30kmpl\n"
     ]
    }
   ],
   "source": [
    "m = Maruti()\n",
    "m.mileage()"
   ]
  },
  {
   "cell_type": "code",
   "execution_count": 10,
   "id": "bf2d1ba1-9861-465f-9499-cb7def509fda",
   "metadata": {},
   "outputs": [],
   "source": [
    "t = Toyota()"
   ]
  },
  {
   "cell_type": "code",
   "execution_count": 11,
   "id": "cbcf18d5-95f3-44b1-bc9c-cda57754cdc5",
   "metadata": {},
   "outputs": [
    {
     "name": "stdout",
     "output_type": "stream",
     "text": [
      "Mileage is 22kmpl\n"
     ]
    }
   ],
   "source": [
    "t.mileage()"
   ]
  },
  {
   "cell_type": "code",
   "execution_count": 12,
   "id": "a22f62da-5b37-4525-a1b6-869ac0c7d5a6",
   "metadata": {},
   "outputs": [
    {
     "data": {
      "text/plain": [
       "'Q2. Differentiate between Abstraction and Encapsulation. Explain with an example.'"
      ]
     },
     "execution_count": 12,
     "metadata": {},
     "output_type": "execute_result"
    }
   ],
   "source": [
    "'''Q2. Differentiate between Abstraction and Encapsulation. Explain with an example.'''"
   ]
  },
  {
   "cell_type": "code",
   "execution_count": 13,
   "id": "d4897bd0-86cd-4edb-8f70-bfc521614f8f",
   "metadata": {},
   "outputs": [
    {
     "data": {
      "text/plain": [
       "'The primary difference between abstraction and encapsulation is that abstraction is a design level process that focuses on hiding the complex details and implementation of the code. In contrast, encapsulation is an implementation level process that focuses on hiding the data and controlling the visibility of the code.'"
      ]
     },
     "execution_count": 13,
     "metadata": {},
     "output_type": "execute_result"
    }
   ],
   "source": [
    "'''The primary difference between abstraction and encapsulation is that abstraction is a design level process that focuses on hiding the complex details and implementation of the code. In contrast, encapsulation is an implementation level process that focuses on hiding the data and controlling the visibility of the code.'''"
   ]
  },
  {
   "cell_type": "code",
   "execution_count": 15,
   "id": "953afc29-abd7-4581-838d-a2111bcb3d0f",
   "metadata": {},
   "outputs": [],
   "source": [
    "# encapsulation example"
   ]
  },
  {
   "cell_type": "code",
   "execution_count": 16,
   "id": "31cec22f-78c1-4240-85f8-8b73bef58d1d",
   "metadata": {},
   "outputs": [],
   "source": [
    "class Test:\n",
    "    def __init__(self):\n",
    "        self.__y = 'pwskills'\n",
    "     \n",
    "    def display(self):\n",
    "        print(self.__y)"
   ]
  },
  {
   "cell_type": "code",
   "execution_count": 19,
   "id": "e27ade5f-0444-4f1e-859b-463493eaee40",
   "metadata": {},
   "outputs": [],
   "source": [
    "# here y is a private variable can't be accessed using object as well \n",
    "# can only be accessed using display mtd\n",
    "\n",
    "t = Test()"
   ]
  },
  {
   "cell_type": "code",
   "execution_count": 20,
   "id": "ea9638a2-c3bb-45ee-a515-0b48fe701021",
   "metadata": {},
   "outputs": [
    {
     "name": "stdout",
     "output_type": "stream",
     "text": [
      "pwskills\n"
     ]
    }
   ],
   "source": [
    "t.display()"
   ]
  },
  {
   "cell_type": "code",
   "execution_count": 21,
   "id": "c2788428-639d-414d-b08b-e3c0407ef2c9",
   "metadata": {},
   "outputs": [
    {
     "data": {
      "text/plain": [
       "'Q3. What is abc module in python? Why is it used?'"
      ]
     },
     "execution_count": 21,
     "metadata": {},
     "output_type": "execute_result"
    }
   ],
   "source": [
    "'''Q3. What is abc module in python? Why is it used?'''"
   ]
  },
  {
   "cell_type": "code",
   "execution_count": 22,
   "id": "0aaa30af-2556-46bd-b449-7c577bf72b24",
   "metadata": {},
   "outputs": [
    {
     "data": {
      "text/plain": [
       "'Ans.:  provides a set of tools for creating and working with abstract base classes.'"
      ]
     },
     "execution_count": 22,
     "metadata": {},
     "output_type": "execute_result"
    }
   ],
   "source": [
    "'''Ans.:  provides a set of tools for creating and working with abstract base classes.'''"
   ]
  },
  {
   "cell_type": "code",
   "execution_count": 23,
   "id": "50d0b597-2859-4e00-96e7-15ea2984a707",
   "metadata": {},
   "outputs": [
    {
     "data": {
      "text/plain": [
       "'Q4.How can we achieve data abstraction?'"
      ]
     },
     "execution_count": 23,
     "metadata": {},
     "output_type": "execute_result"
    }
   ],
   "source": [
    "'''Q4.How can we achieve data abstraction?'''"
   ]
  },
  {
   "cell_type": "code",
   "execution_count": 25,
   "id": "02f4ecf0-ce96-4e22-8223-0b6cc080d8b0",
   "metadata": {},
   "outputs": [
    {
     "data": {
      "text/plain": [
       "'Ans.: data abstraction is basically hiding complex implementation details while exposing only essential information to the end user. It can be acheived using abstract classes'"
      ]
     },
     "execution_count": 25,
     "metadata": {},
     "output_type": "execute_result"
    }
   ],
   "source": [
    "'''Ans.: data abstraction is basically hiding complex implementation details while exposing only essential information to the end user. It can be acheived using abstract classes'''"
   ]
  },
  {
   "cell_type": "code",
   "execution_count": 26,
   "id": "6feecaae-8052-4f4c-ab78-dc0c977e623b",
   "metadata": {},
   "outputs": [
    {
     "data": {
      "text/plain": [
       "'Q5. Can we create an instance of an abstract class? Explain your answer.'"
      ]
     },
     "execution_count": 26,
     "metadata": {},
     "output_type": "execute_result"
    }
   ],
   "source": [
    "'''Q5. Can we create an instance of an abstract class? Explain your answer.'''"
   ]
  },
  {
   "cell_type": "code",
   "execution_count": 27,
   "id": "e0a0e2d6-cac3-4e0d-9057-d2e197aca0b8",
   "metadata": {},
   "outputs": [
    {
     "data": {
      "text/plain": [
       "'We cannot create instance of abstract class but we can create instance of sub class with inherits abstract class'"
      ]
     },
     "execution_count": 27,
     "metadata": {},
     "output_type": "execute_result"
    }
   ],
   "source": [
    "'''We cannot create instance of abstract class but we can create instance of sub class with inherits abstract class'''"
   ]
  },
  {
   "cell_type": "code",
   "execution_count": 28,
   "id": "6918f65a-092b-4eb6-94cb-ea619eb47eb1",
   "metadata": {},
   "outputs": [],
   "source": [
    "# example"
   ]
  },
  {
   "cell_type": "code",
   "execution_count": 29,
   "id": "e5437e3e-63ab-4d1c-b636-756c759a9bf3",
   "metadata": {},
   "outputs": [],
   "source": [
    "from abc import ABC, abstractmethod\n",
    "class Test1(ABC):\n",
    "    \n",
    "    @abstractmethod\n",
    "    def display(self):\n",
    "        pass"
   ]
  },
  {
   "cell_type": "code",
   "execution_count": 30,
   "id": "280c1ede-025c-44ad-9134-bbdbbdeb89a2",
   "metadata": {},
   "outputs": [
    {
     "ename": "TypeError",
     "evalue": "Can't instantiate abstract class Test1 with abstract method display",
     "output_type": "error",
     "traceback": [
      "\u001b[0;31m---------------------------------------------------------------------------\u001b[0m",
      "\u001b[0;31mTypeError\u001b[0m                                 Traceback (most recent call last)",
      "Cell \u001b[0;32mIn[30], line 1\u001b[0m\n\u001b[0;32m----> 1\u001b[0m t \u001b[38;5;241m=\u001b[39m \u001b[43mTest1\u001b[49m\u001b[43m(\u001b[49m\u001b[43m)\u001b[49m\n",
      "\u001b[0;31mTypeError\u001b[0m: Can't instantiate abstract class Test1 with abstract method display"
     ]
    }
   ],
   "source": [
    "t = Test1()"
   ]
  },
  {
   "cell_type": "code",
   "execution_count": null,
   "id": "e22b670f-0e94-42f4-8657-36f46a717674",
   "metadata": {},
   "outputs": [],
   "source": []
  }
 ],
 "metadata": {
  "kernelspec": {
   "display_name": "Python 3 (ipykernel)",
   "language": "python",
   "name": "python3"
  },
  "language_info": {
   "codemirror_mode": {
    "name": "ipython",
    "version": 3
   },
   "file_extension": ".py",
   "mimetype": "text/x-python",
   "name": "python",
   "nbconvert_exporter": "python",
   "pygments_lexer": "ipython3",
   "version": "3.10.8"
  }
 },
 "nbformat": 4,
 "nbformat_minor": 5
}
